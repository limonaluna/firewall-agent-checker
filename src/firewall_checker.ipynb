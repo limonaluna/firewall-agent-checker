{
 "cells": [
  {
   "cell_type": "markdown",
   "metadata": {},
   "source": [
    "## Setup"
   ]
  },
  {
   "cell_type": "code",
   "execution_count": 5,
   "metadata": {},
   "outputs": [
    {
     "data": {
      "text/plain": [
       "True"
      ]
     },
     "execution_count": 5,
     "metadata": {},
     "output_type": "execute_result"
    }
   ],
   "source": [
    "import os\n",
    "from openai import AzureOpenAI\n",
    "import argparse\n",
    "import sys\n",
    "import json\n",
    "from azure.search.documents import SearchClient\n",
    "from azure.core.credentials import AzureKeyCredential\n",
    "import csv\n",
    "from azure.storage.filedatalake import (DataLakeServiceClient, FileSystemClient, DataLakeDirectoryClient)\n",
    "from azure.identity import (DefaultAzureCredential, ClientSecretCredential)\n",
    "import pandas as pd\n",
    "from io import (BytesIO, StringIO)\n",
    "import ipaddress\n",
    "\n",
    "\n",
    "\n",
    "#Load environment variables\n",
    "from dotenv import load_dotenv\n",
    "load_dotenv()"
   ]
  },
  {
   "cell_type": "code",
   "execution_count": 146,
   "metadata": {},
   "outputs": [],
   "source": [
    "#run az login before to be able to use this credential\n",
    "credential = DefaultAzureCredential()"
   ]
  },
  {
   "cell_type": "code",
   "execution_count": 2,
   "metadata": {},
   "outputs": [],
   "source": [
    "#instatiate Azure OpenAI client\n",
    "client = AzureOpenAI(\n",
    "  azure_endpoint = os.getenv(\"AZURE_OPENAI_ENDPOINT\"), \n",
    "  api_key=os.getenv(\"AZURE_OPENAI_API_KEY\"),  \n",
    "  api_version=os.getenv(\"AZURE_OPENAI_API_VERSION\")\n",
    ")\n",
    "\n",
    "model = os.getenv(\"AZURE_OPENAI_DEPLOYMENT_NAME\")\n"
   ]
  },
  {
   "cell_type": "code",
   "execution_count": 3,
   "metadata": {},
   "outputs": [],
   "source": [
    "# Initialize the Azure Cognitive Search client\n",
    "search_client = SearchClient(\n",
    "    endpoint=os.getenv(\"AZURE_AI_SEARCH_ENDPOINT\"),\n",
    "    index_name=os.getenv(\"AZURE_AI_SEARCH_INDEX\"),\n",
    "    credential=AzureKeyCredential(os.getenv(\"AZURE_AI_SEARCH_API_KEY\"))\n",
    ")"
   ]
  },
  {
   "cell_type": "markdown",
   "metadata": {},
   "source": [
    "## Function Definitions"
   ]
  },
  {
   "cell_type": "code",
   "execution_count": null,
   "metadata": {},
   "outputs": [
    {
     "name": "stdout",
     "output_type": "stream",
     "text": [
      "destination_ip:20.0.0.*\n"
     ]
    }
   ],
   "source": [
    "#TO DO: Find a way to work with IP Ranges\n",
    "def create_ip_range_filter(ip_range):\n",
    "    \"\"\"\n",
    "    Creates a prefix search query string for finding IP addresses within a given IP range.\n",
    "\n",
    "    Args:\n",
    "        ip_range (str): The IP range in CIDR notation (e.g., \"20.0.0.0/24\").\n",
    "\n",
    "    Returns:\n",
    "        str: A prefix search query string.\n",
    "    \"\"\"\n",
    "    try:\n",
    "        # Parse the IP range\n",
    "        network = ipaddress.ip_network(ip_range, strict=False)\n",
    "        prefix = str(network.network_address).rsplit('.', 1)[0]\n",
    "\n",
    "        # Create the prefix search query string\n",
    "        query_string = f\"destination_ip:{prefix}.*\"\n",
    "        return query_string\n",
    "    except ValueError as e:\n",
    "        return f\"Invalid IP range: {e}\"\n",
    "\n",
    "# Example usage\n",
    "ip_range_filter = create_ip_range_filter(\"20.0.0.0/24\")\n",
    "print(ip_range_filter)\n"
   ]
  },
  {
   "cell_type": "code",
   "execution_count": 6,
   "metadata": {},
   "outputs": [],
   "source": [
    "\"\"\"\n",
    "Queries the Azure Cognitive Search index for risky IP ranges.\n",
    "\n",
    "Args:\n",
    "    ip_range (str): The IP range or address to search for in the index.\n",
    "\n",
    "Returns:\n",
    "    str: A JSON-formatted string containing the risk details if found, \n",
    "         or a message indicating no risky IP range was found.\n",
    "\"\"\"\n",
    "def query_risky_ip_ranges(ip_range):\n",
    "    results = search_client.search(\n",
    "        search_text=ip_range,  # Perform a keyword search using the provided IP range\n",
    "        query_type=\"full\",  # Use simple query type for keyword search\n",
    "        search_fields=[\"ip_ranges\"],  # Field to search for the IP range\n",
    "        select=[\"risk_id\", \"description\", \"cvss_score\", \"ports\", \"protocols\", \"ip_ranges\", \"last_updated\"],  # Select relevant fields\n",
    "        top=1  # Limit to top 1 results\n",
    "    )\n",
    "\n",
    "    top_result = next(iter(results), None)\n",
    "    if top_result:\n",
    "        return json.dumps({\n",
    "            \"risk_id\": top_result[\"risk_id\"],\n",
    "            \"description\": top_result[\"description\"],\n",
    "            \"cvss_score\": top_result[\"cvss_score\"],\n",
    "            \"ports\": top_result[\"ports\"],\n",
    "            \"protocols\": top_result[\"protocols\"],\n",
    "            \"ip_ranges\": top_result[\"ip_ranges\"],\n",
    "            \"last_updated\": top_result[\"last_updated\"]\n",
    "        }, indent=2)\n",
    "\n",
    "    return \"No risky IP range found for this input.\""
   ]
  },
  {
   "cell_type": "code",
   "execution_count": 32,
   "metadata": {},
   "outputs": [
    {
     "name": "stdout",
     "output_type": "stream",
     "text": [
      "{\n",
      "  \"risk_id\": \"R401\",\n",
      "  \"description\": \"Reported abusive IP\",\n",
      "  \"cvss_score\": \"10.0\",\n",
      "  \"ports\": null,\n",
      "  \"protocols\": null,\n",
      "  \"ip_ranges\": \"193.163.125.241\",\n",
      "  \"last_updated\": \"2025-03-03T00:00:00Z\"\n",
      "}\n"
     ]
    }
   ],
   "source": [
    "test_ipranges_risky = query_risky_ip_ranges(\"193.163.125.241\")\n",
    "print(test_ipranges_risky)"
   ]
  },
  {
   "cell_type": "code",
   "execution_count": 33,
   "metadata": {},
   "outputs": [
    {
     "name": "stdout",
     "output_type": "stream",
     "text": [
      "No risky IP range found for this input.\n"
     ]
    }
   ],
   "source": [
    "test_ipranges_unrisky = query_risky_ip_ranges(\"193.163.125.245\")\n",
    "print(test_ipranges_unrisky)"
   ]
  },
  {
   "cell_type": "code",
   "execution_count": null,
   "metadata": {},
   "outputs": [],
   "source": [
    "#TO DO: case-sensitive for protocol!\n",
    "#TO DO: comma separation in ports\n",
    "#TO DO: * for all ports\n",
    "\"\"\"\n",
    "Queries the Azure Cognitive Search index for risky ports.\n",
    "\n",
    "Args:\n",
    "    port (str): The port number to search for in the index.\n",
    "    protocol (str): The protocol (e.g., \"tcp\", \"udp\") to search for in the index.\n",
    "\n",
    "Returns:\n",
    "    str: A JSON-formatted string containing the risk details if found,\n",
    "         or a message indicating no risky port was found.\n",
    "\"\"\"\n",
    "def query_risky_ports(port, protocol):\n",
    "    results = search_client.search(\n",
    "        search_text=\"*\",  # Perform a keyword search using the provided port\n",
    "        filter=f\"ports eq '{port}' and protocols eq '{protocol}'\",  # Filter by the specified port and protocol \n",
    "        query_type=\"full\",  # Use simple query type for keyword search\n",
    "        select=[\"risk_id\", \"description\", \"cvss_score\", \"ports\", \"protocols\", \"ip_ranges\", \"last_updated\"],  # Select relevant fields\n",
    "        top=1  # Limit to top 1 results\n",
    "    )\n",
    "\n",
    "    top_result = next(iter(results), None)\n",
    "    if top_result:\n",
    "        return json.dumps({\n",
    "            \"risk_id\": top_result[\"risk_id\"],\n",
    "            \"description\": top_result[\"description\"],\n",
    "            \"cvss_score\": top_result[\"cvss_score\"],\n",
    "            \"ports\": top_result[\"ports\"],\n",
    "            \"protocols\": top_result[\"protocols\"],\n",
    "            \"ip_ranges\": top_result[\"ip_ranges\"],\n",
    "            \"last_updated\": top_result[\"last_updated\"]\n",
    "        }, indent=2)\n",
    "\n",
    "    return \"No risky port found for this input.\""
   ]
  },
  {
   "cell_type": "code",
   "execution_count": 34,
   "metadata": {},
   "outputs": [
    {
     "name": "stdout",
     "output_type": "stream",
     "text": [
      "{\n",
      "  \"risk_id\": \"R002\",\n",
      "  \"description\": \"FTP Data- Unencrypted file transfer\",\n",
      "  \"cvss_score\": \"5.0\",\n",
      "  \"ports\": \"20\",\n",
      "  \"protocols\": \"tcp\",\n",
      "  \"ip_ranges\": \"0.0.0.0/0\",\n",
      "  \"last_updated\": \"2025-03-03T00:00:00Z\"\n",
      "}\n"
     ]
    }
   ],
   "source": [
    "test_ports_risky = query_risky_ports(\"20\", \"tcp\")\n",
    "print(test_ports_risky)\n"
   ]
  },
  {
   "cell_type": "code",
   "execution_count": 35,
   "metadata": {},
   "outputs": [
    {
     "name": "stdout",
     "output_type": "stream",
     "text": [
      "No risky port found for this input.\n"
     ]
    }
   ],
   "source": [
    "test_ports_unrisky = query_risky_ports(\"145\", \"tcp\")\n",
    "print(test_ports_unrisky)"
   ]
  },
  {
   "cell_type": "code",
   "execution_count": 13,
   "metadata": {},
   "outputs": [],
   "source": [
    "\"\"\"\n",
    "Queries the Azure Cognitive Search index for public risk information associated with a firewall rule.\n",
    "\n",
    "Args:\n",
    "    source_ip (str): The source IP address or range to search for in the index.\n",
    "    destination_ip (str): The destination IP address or range to search for in the index.\n",
    "    port (str): The port number to search for in the index.\n",
    "    protocol (str): The protocol (e.g., \"tcp\", \"udp\") to search for in the index.\n",
    "\n",
    "Returns:\n",
    "    str: A JSON-formatted string containing the risk details for the source IP, destination IP, and port,\n",
    "         or a message indicating no risk was found for each component.\n",
    "\"\"\"\n",
    "def query_firewall_rule_public_risk(source_ip, destination_ip, port, protocol):\n",
    "    source_ip_risk = query_risky_ip_ranges(source_ip)\n",
    "    destination_ip_risk = query_risky_ip_ranges(destination_ip)\n",
    "    port_risk = query_risky_ports(port, protocol)\n",
    "    return json.dumps(\n",
    "        {\n",
    "        \"source_ip\": source_ip_risk,\n",
    "        \"destination_ip\": destination_ip_risk,\n",
    "        \"port\": port_risk\n",
    "    }, indent=2)"
   ]
  },
  {
   "cell_type": "code",
   "execution_count": 36,
   "metadata": {},
   "outputs": [
    {
     "name": "stdout",
     "output_type": "stream",
     "text": [
      "{\n",
      "  \"source_ip\": \"{\\n  \\\"risk_id\\\": \\\"R401\\\",\\n  \\\"description\\\": \\\"Reported abusive IP\\\",\\n  \\\"cvss_score\\\": \\\"10.0\\\",\\n  \\\"ports\\\": null,\\n  \\\"protocols\\\": null,\\n  \\\"ip_ranges\\\": \\\"193.163.125.241\\\",\\n  \\\"last_updated\\\": \\\"2025-03-03T00:00:00Z\\\"\\n}\",\n",
      "  \"destination_ip\": \"No risky IP range found for this input.\",\n",
      "  \"port\": \"{\\n  \\\"risk_id\\\": \\\"R002\\\",\\n  \\\"description\\\": \\\"FTP Data- Unencrypted file transfer\\\",\\n  \\\"cvss_score\\\": \\\"5.0\\\",\\n  \\\"ports\\\": \\\"20\\\",\\n  \\\"protocols\\\": \\\"tcp\\\",\\n  \\\"ip_ranges\\\": \\\"0.0.0.0/0\\\",\\n  \\\"last_updated\\\": \\\"2025-03-03T00:00:00Z\\\"\\n}\"\n",
      "}\n"
     ]
    }
   ],
   "source": [
    "test_firewall_rule_public_risk = query_firewall_rule_public_risk(\"193.163.125.241\",\"193.163.125.245\", \"20\", \"tcp\")\n",
    "print(test_firewall_rule_public_risk)"
   ]
  },
  {
   "cell_type": "markdown",
   "metadata": {},
   "source": [
    "## Define the tools that are  for the function calling"
   ]
  },
  {
   "cell_type": "code",
   "execution_count": 21,
   "metadata": {},
   "outputs": [],
   "source": [
    "tools = [\n",
    "    {\n",
    "        \"type\": \"function\",\n",
    "        \"function\": {\n",
    "            \"name\": \"query_risky_ip_ranges\",\n",
    "            \"description\": \"Retrieve risky IP ranges from Azure AI Search index\",\n",
    "            \"parameters\": {\n",
    "                \"type\": \"object\",\n",
    "                \"properties\": {\n",
    "                    \"ip_range\": {\n",
    "                        \"type\": \"string\",\n",
    "                        \"description\": \"The ip-range from the firewall rule request to search for in the risky IP range index\",\n",
    "                    },\n",
    "                },\n",
    "                \"required\": [\"ip_range\"],\n",
    "            },\n",
    "        },\n",
    "    },\n",
    "    {\n",
    "        \"type\": \"function\",\n",
    "        \"function\": {\n",
    "            \"name\": \"query_risky_ports\",\n",
    "            \"description\": \"Retrieve risky ports from Azure AI Search index\",\n",
    "            \"parameters\": {\n",
    "                \"type\": \"object\",\n",
    "                \"properties\": {\n",
    "                    \"port\": {\n",
    "                        \"type\": \"string\",\n",
    "                        \"description\": \"The port number from the firewall rule request to search for in the risky ports index\",\n",
    "                    },\n",
    "                    \"protocol\": {\n",
    "                        \"type\": \"string\",\n",
    "                        \"description\": \"The protocol from the firewall rule request to search for in the risky ports index\",\n",
    "                    },\n",
    "                },\n",
    "                \"required\": [\"port\"],\n",
    "            },\n",
    "        },\n",
    "    },\n",
    "    {\n",
    "        \"type\": \"function\",\n",
    "        \"function\": {\n",
    "            \"name\": \"query_firewall_rule_public_risk\",\n",
    "            \"description\": \"Takes source IP, destination IP and port as input and returns whether there is any public risk information associated with the firewall rule\",\n",
    "            \"parameters\": {\n",
    "                \"type\": \"object\",\n",
    "                \"properties\": {\n",
    "                    \"source_ip\": {\n",
    "                        \"type\": \"string\",\n",
    "                        \"description\": \"The source ip-range from the firewall rule request to search for in the risky IP range index\",\n",
    "                    },\n",
    "                    \"destination_ip\": {\n",
    "                        \"type\": \"string\",\n",
    "                        \"description\": \"The destination ip-range from the firewall rule request to search for in the risky IP range index\",\n",
    "                    },\n",
    "                    \"port\": {\n",
    "                        \"type\": \"string\",\n",
    "                        \"description\": \"The port number from the firewall rule request to search for in the risky ports index\",\n",
    "                    },\n",
    "                    \"protocol\": {\n",
    "                        \"type\": \"string\",\n",
    "                        \"description\": \"The protocol from the firewall rule request to search for in the risky ports index\",\n",
    "                    },\n",
    "                },\n",
    "                \"required\": [\"source_ip\",\"destination_ip\",\"port\", \"protocol\"],\n",
    "            },\n",
    "        },\n",
    "    },\n",
    "]\n",
    "\n",
    "available_functions = {\n",
    "    \"query_risky_ip_ranges\": query_risky_ip_ranges,\n",
    "    \"query_risky_ports\": query_risky_ports,\n",
    "    \"query_firewall_rule_public_risk\": query_firewall_rule_public_risk,\n",
    "}"
   ]
  },
  {
   "cell_type": "markdown",
   "metadata": {},
   "source": [
    "## Conversation Handling"
   ]
  },
  {
   "cell_type": "code",
   "execution_count": 22,
   "metadata": {},
   "outputs": [],
   "source": [
    "def run_conversation(messages, tools, available_functions, debug=False):\n",
    "    def log(*args):\n",
    "        if debug:\n",
    "            print(*args)\n",
    "\n",
    "    # Step 1: send the conversation and available functions to GPT\n",
    "    response = client.chat.completions.create(\n",
    "        model=model,\n",
    "        messages=messages,\n",
    "        tools=tools,\n",
    "        tool_choice=\"auto\",\n",
    "        temperature=0.2,\n",
    "    )\n",
    "    response_message = response.choices[0].message\n",
    "\n",
    "    # Step 2: check if the model wants to call a function\n",
    "    if response_message.tool_calls:\n",
    "        tool_call = response_message.tool_calls[0]\n",
    "        function_name = tool_call.function.name\n",
    "        log(\"Recommended Function Call:\", tool_call)\n",
    "\n",
    "        # Step 3: validate and execute the function\n",
    "        if function_name not in available_functions:\n",
    "            return f\"Function '{function_name}' not found in available_functions.\"\n",
    "\n",
    "        function_to_call = available_functions[function_name]\n",
    "\n",
    "        try:\n",
    "            function_args = json.loads(tool_call.function.arguments)\n",
    "        except json.JSONDecodeError as e:\n",
    "            return f\"Failed to parse function arguments: {e}\"\n",
    "\n",
    "        try:\n",
    "            function_response = function_to_call(**function_args)\n",
    "        except Exception as e:\n",
    "            return f\"Error while calling '{function_name}': {e}\"\n",
    "\n",
    "        log(\"Function Output:\", function_response)\n",
    "\n",
    "        # Step 4: add tool call + function response to messages\n",
    "        messages.append(\n",
    "            {\n",
    "                \"role\": response_message.role,\n",
    "                \"function_call\": {\n",
    "                    \"name\": response_message.tool_calls[0].function.name,\n",
    "                    \"arguments\": response_message.tool_calls[0].function.arguments,\n",
    "                },\n",
    "                \"content\": None,\n",
    "            }\n",
    "        )\n",
    "\n",
    "        # adding function response to messages\n",
    "        messages.append(\n",
    "            {\n",
    "                \"role\": \"function\",\n",
    "                \"name\": function_name,\n",
    "                \"content\": function_response,\n",
    "            }\n",
    "        )  # extend conversation with function response\n",
    "\n",
    "        log(\"Messages passed in second request:\")\n",
    "        if debug:\n",
    "            for msg in messages:\n",
    "                print(msg)\n",
    "\n",
    "        second_response = client.chat.completions.create(\n",
    "            messages=messages,\n",
    "            model=model,\n",
    "        )  # get a new response from GPT where it can see the function response\n",
    "\n",
    "        return second_response\n",
    "    else:\n",
    "        return response"
   ]
  },
  {
   "cell_type": "markdown",
   "metadata": {},
   "source": [
    "## System Message"
   ]
  },
  {
   "cell_type": "code",
   "execution_count": null,
   "metadata": {},
   "outputs": [],
   "source": [
    "system_message = \"\"\"\n",
    "You are a security risk assessment assistant that helps users evaluate whether an Azure Firewall rule is risky. You interact in natural language and use available tools when needed.\n",
    "\n",
    "You have access to an Azure AI Search index containing public risk data about IP ranges and ports. Use the appropriate function depending on what information is provided:\n",
    "- `query_risky_ip_ranges(ip_range)`: use this when only the IP address or IP range is provided.\n",
    "- `query_risky_ports(port, protocol)`: use this when only the port and protocol are provided.\n",
    "- `query_public_risk_data(source_ip, destination_ip, port, protocol)`: use this when all sourceIp, destination IP, port and protocol are provided.\n",
    "\n",
    "Your goals:\n",
    "- Evaluate firewall rules using available data.\n",
    "- Use CVSS score and descriptions to assess risk when available.\n",
    "- If no data is found or input is incomplete, ask follow-up questions or make an informed estimate.\n",
    "- Assign a confidence score (0–100%) based on how complete and reliable the information is.\n",
    "\n",
    "Risk classification based on CVSS:\n",
    "- `High Risk`: score ≥ 7.0\n",
    "- `Medium Risk`: 4.0 ≤ score < 7.0\n",
    "- `Low Risk`: score < 4.0\n",
    "\n",
    "Return your output in the form of a markdown table with the following columns:\n",
    "\n",
    "| Source IP | Destination IP | Port | Protocol | Risk Level | CVSS Score | Description | Recommendation | Confidence Score |\n",
    "|-----------|----------------|------|----------|------------|-------------|-------------|----------------|------------------|\n",
    "\n",
    "- Populate each column with your findings.\n",
    "- Include all user-provided input fields (IP, port, protocol) in the table.\n",
    "- Risk Level should be based on CVSS or logical inference.\n",
    "- Recommendation should be one of: \"Block this rule\", \"Monitor this rule\", or \"Allow this rule\".\n",
    "- If CVSS score is unavailable, use \"N/A\".\n",
    "\n",
    "Only output the final markdown table. Do not include explanations, summaries, or any additional text.\n",
    "\"\"\""
   ]
  },
  {
   "cell_type": "markdown",
   "metadata": {},
   "source": [
    "## Test with a few chat inputs"
   ]
  },
  {
   "cell_type": "code",
   "execution_count": null,
   "metadata": {},
   "outputs": [
    {
     "name": "stdout",
     "output_type": "stream",
     "text": [
      "Recommended Function Call: ChatCompletionMessageToolCall(id='call_mq9oXn9lgKX8IzQVQpDHZy7C', function=Function(arguments='{\"port\":\"20\",\"protocol\":\"tcp\"}', name='query_risky_ports'), type='function')\n",
      "Function Output: {\n",
      "  \"risk_id\": \"R002\",\n",
      "  \"description\": \"FTP Data- Unencrypted file transfer\",\n",
      "  \"cvss_score\": \"5.0\",\n",
      "  \"ports\": \"20\",\n",
      "  \"protocols\": \"tcp\",\n",
      "  \"ip_ranges\": \"0.0.0.0/0\",\n",
      "  \"last_updated\": \"2025-03-03T00:00:00Z\"\n",
      "}\n",
      "Messages passed in second request:\n",
      "{'role': 'system', 'content': '\\nYou are a security risk assessment assistant that helps users evaluate whether an Azure Firewall rule is risky. You interact in natural language and use available tools when needed.\\n\\nYou have access to an Azure Cognitive Search index containing public risk data about IP ranges and ports. Use the appropriate function depending on what information is provided:\\n- `query_risky_ip_ranges(ip_range)`: use this when only the IP address or IP range is provided.\\n- `query_risky_ports(port, protocol)`: use this when only the port and protocol are provided.\\n- `query_public_risk_data(source_ip, destination_ip, port, protocol)`: use this when all sourceIp, destination IP, port and protocol are provided.\\n\\nYour goals:\\n- Evaluate firewall rules using available data.\\n- Use CVSS score and descriptions to assess risk when available.\\n- If no data is found or input is incomplete, ask follow-up questions or make an informed estimate.\\n- Assign a confidence score (0–100%) based on how complete and reliable the information is.\\n\\nRisk classification based on CVSS:\\n- `High Risk`: score ≥ 7.0\\n- `Medium Risk`: 4.0 ≤ score < 7.0\\n- `Low Risk`: score < 4.0\\n\\nReturn your output in the form of a markdown table with the following columns:\\n\\n| Source IP | Destination IP | Port | Protocol | Risk Level | CVSS Score | Description | Recommendation | Confidence Score |\\n|-----------|----------------|------|----------|------------|-------------|-------------|----------------|------------------|\\n\\n- Populate each column with your findings.\\n- Include all user-provided input fields (IP, port, protocol) in the table.\\n- Risk Level should be based on CVSS or logical inference.\\n- Recommendation should be one of: \"Block this rule\", \"Monitor this rule\", or \"Allow this rule\".\\n- If CVSS score is unavailable, use \"N/A\".\\n\\nOnly output the final markdown table. Do not include explanations, summaries, or any additional text.\\n'}\n",
      "{'role': 'user', 'content': 'Help me find out whether this firewall rule is risky or not: port is 20, protocol is tcp'}\n",
      "{'role': 'assistant', 'function_call': {'name': 'query_risky_ports', 'arguments': '{\"port\":\"20\",\"protocol\":\"tcp\"}'}, 'content': None}\n",
      "{'role': 'function', 'name': 'query_risky_ports', 'content': '{\\n  \"risk_id\": \"R002\",\\n  \"description\": \"FTP Data- Unencrypted file transfer\",\\n  \"cvss_score\": \"5.0\",\\n  \"ports\": \"20\",\\n  \"protocols\": \"tcp\",\\n  \"ip_ranges\": \"0.0.0.0/0\",\\n  \"last_updated\": \"2025-03-03T00:00:00Z\"\\n}'}\n",
      "Final response:\n",
      "| Source IP | Destination IP | Port | Protocol | Risk Level | CVSS Score | Description                  | Recommendation   | Confidence Score |\n",
      "|-----------|----------------|------|----------|------------|-------------|------------------------------|------------------|------------------|\n",
      "| N/A       | N/A            | 20   | TCP      | Medium Risk| 5.0         | FTP Data- Unencrypted file transfer | Monitor this rule | 90%             |\n"
     ]
    }
   ],
   "source": [
    "messages = [\n",
    "    {\"role\": \"system\", \"content\": system_message},\n",
    "    {\n",
    "        \"role\": \"user\",\n",
    "        \"content\": \"Help me find out whether this firewall rule is risky or not: port is 20, protocol is tcp\",\n",
    "    },\n",
    "]\n",
    "\n",
    "#testing for ip-range: \"content\": \"Help me find out whether this firewall rule is risky or not: 193.163.125.240\"\n",
    "#testing for port and ip-range:\"content\": \"Help me find out whether this firewall rule is risky or not: ip-range is 193.163.125.240, port is 20\"\n",
    "#testing for all together: \"content\": \"Help me find out whether this firewall rule is risky or not: source-ip is 193.163.125.240, destination-ip is 193.163.125.245, and port is 20\"\n",
    "#testing for all together: \"content\": \"Help me find out whether this firewall rule is risky or not: source-ip is 193.163.125.240, destination-ip is 193.163.125.245, port is 20, protocol is tcp\"\n",
    "\n",
    "result = run_conversation(messages, tools, available_functions, debug=True)\n",
    "\n",
    "print(\"Final response:\")\n",
    "if isinstance(result, str):\n",
    "    print(result)  # It's an error message or string content\n",
    "else:\n",
    "    print(result.choices[0].message.content)  # It's a ChatCompletionMessage object\n",
    "#print(result.choices[0].message.content)"
   ]
  },
  {
   "cell_type": "markdown",
   "metadata": {},
   "source": [
    "## Review Firerules from CSV file"
   ]
  },
  {
   "cell_type": "code",
   "execution_count": 25,
   "metadata": {},
   "outputs": [],
   "source": [
    "# Define the connection string and blob details\n",
    "account_name = os.getenv(\"AZURE_STORAGE_ACCOUNT_NAME\") \n",
    "account_key = os.getenv(\"AZURE_STORAGE_ACCOUNT_KEY\") \n",
    "account_url = f\"https://{account_name}.dfs.core.windows.net\"\n",
    "file_system_name = \"test\"  # Replace with your container name\n",
    "file_path = \"testdata_existing_rules_artem.csv\"  # Replace with the path to your CSV file in the container"
   ]
  },
  {
   "cell_type": "code",
   "execution_count": 26,
   "metadata": {},
   "outputs": [
    {
     "name": "stdout",
     "output_type": "stream",
     "text": [
      "File system: risks\n",
      "File system: test\n"
     ]
    }
   ],
   "source": [
    "# Authentication towards Storage account via Storage account key ###TODO: Change to identity based authentication at some point\n",
    "service_client = DataLakeServiceClient(account_url=account_url, credential=account_key)\n",
    "# List file systems (containers)\n",
    "file_systems = service_client.list_file_systems()\n",
    "for fs in file_systems:\n",
    "    print(\"File system:\", fs.name)"
   ]
  },
  {
   "cell_type": "code",
   "execution_count": null,
   "metadata": {},
   "outputs": [
    {
     "name": "stdout",
     "output_type": "stream",
     "text": [
      "          Name     RuleType SourceAddresses Protocols DestinationAddresses  \\\n",
      "0   Allow_HTTP  NetworkRule     10.0.0.0/24       TCP          20.0.0.0/24   \n",
      "1  Allow_HTTPS  NetworkRule     10.0.0.0/24       TCP          20.0.0.0/24   \n",
      "2    Allow_RDP  NetworkRule     10.0.0.0/24       TCP          20.0.0.0/24   \n",
      "3   Allow_ICMP  NetworkRule     10.0.0.0/24      ICMP          20.0.0.0/24   \n",
      "\n",
      "   SourceIpGroups  DestinationIpGroups DestinationPorts  DestinationFqdns  \n",
      "0             NaN                  NaN          80,8080               NaN  \n",
      "1             NaN                  NaN              443               NaN  \n",
      "2             NaN                  NaN             3389               NaN  \n",
      "3             NaN                  NaN                *               NaN  \n"
     ]
    }
   ],
   "source": [
    "# Get the file client\n",
    "file_client = service_client.get_file_system_client(file_system=file_system_name).get_file_client(file_path)\n",
    "\n",
    "# Download the file\n",
    "download = file_client.download_file()\n",
    "downloaded_bytes = download.readall()\n",
    "\n",
    "# Check the data\n",
    "df = pd.read_csv(BytesIO(downloaded_bytes))\n",
    "print(df.head())"
   ]
  },
  {
   "cell_type": "markdown",
   "metadata": {},
   "source": [
    "### Read CSV data"
   ]
  },
  {
   "cell_type": "code",
   "execution_count": 28,
   "metadata": {},
   "outputs": [],
   "source": [
    "# Function to read the CSV from ADLS Gen2 and return as pandas dataframe\n",
    "def read_csv_from_datalake(service_client, file_system_name, file_path):\n",
    "    \"\"\"\n",
    "    Reads a CSV file from ADLS Gen2 using the given DataLakeServiceClient and returns a cleaned pandas DataFrame.\n",
    "    \"\"\"\n",
    "    try:\n",
    "        # Create the file client\n",
    "        file_client = service_client.get_file_system_client(file_system_name).get_file_client(file_path)\n",
    "\n",
    "        # Download and decode\n",
    "        download = file_client.download_file()\n",
    "        downloaded_bytes = download.readall()\n",
    "        text_data = downloaded_bytes.decode(\"utf-8\")\n",
    "\n",
    "        # Split into lines\n",
    "        lines = text_data.splitlines()\n",
    "        raw_header = lines[0]\n",
    "        column_names = [col.strip().replace('\"', '') for col in raw_header.split(',')]\n",
    "        data_rows = \"\\n\".join(lines[1:])\n",
    "\n",
    "        # Read data without header and assign cleaned column names\n",
    "        df = pd.read_csv(StringIO(data_rows), sep=\",\", quotechar='\"', header=None)\n",
    "        df.columns = pd.Index(column_names).astype(str).str.strip().str.replace('\"', '').str.replace(\"'\", '').str.lower()\n",
    "\n",
    "        return df\n",
    "\n",
    "    except Exception as e:\n",
    "        print(f\"[ERROR] Failed to parse CSV from ADLS: {e}\")\n",
    "        return pd.DataFrame()\n"
   ]
  },
  {
   "cell_type": "code",
   "execution_count": 29,
   "metadata": {},
   "outputs": [
    {
     "name": "stdout",
     "output_type": "stream",
     "text": [
      "Detected columns: ['name', 'ruletype', 'sourceaddresses', 'protocols', 'destinationaddresses', 'sourceipgroups', 'destinationipgroups', 'destinationports', 'destinationfqdns']\n",
      "First few rows:\n",
      "          name     ruletype sourceaddresses protocols destinationaddresses  \\\n",
      "0   Allow_HTTP  NetworkRule     10.0.0.0/24       TCP          20.0.0.0/24   \n",
      "1  Allow_HTTPS  NetworkRule     10.0.0.0/24       TCP          20.0.0.0/24   \n",
      "2    Allow_RDP  NetworkRule     10.0.0.0/24       TCP          20.0.0.0/24   \n",
      "3   Allow_ICMP  NetworkRule     10.0.0.0/24      ICMP          20.0.0.0/24   \n",
      "\n",
      "   sourceipgroups  destinationipgroups destinationports  destinationfqdns  \n",
      "0             NaN                  NaN          80,8080               NaN  \n",
      "1             NaN                  NaN              443               NaN  \n",
      "2             NaN                  NaN             3389               NaN  \n",
      "3             NaN                  NaN                *               NaN  \n"
     ]
    }
   ],
   "source": [
    "test_data = read_csv_from_datalake(service_client, file_system_name, \"testdata_existing_rules_artem.csv\")\n",
    "print(\"Detected columns:\", test_data.columns.tolist())\n",
    "print(\"First few rows:\")\n",
    "print(test_data.head())\n"
   ]
  },
  {
   "cell_type": "markdown",
   "metadata": {},
   "source": [
    "### Construct user message"
   ]
  },
  {
   "cell_type": "code",
   "execution_count": 30,
   "metadata": {},
   "outputs": [],
   "source": [
    "def create_message(system_message, source_ip, destination_ip, port, protocol):\n",
    "    \"\"\"\n",
    "    Constructs a message payload for an LLM to evaluate firewall rule risk.\n",
    "    \"\"\"\n",
    "    return [\n",
    "        {\"role\": \"system\", \"content\": system_message.strip()},\n",
    "        {\n",
    "            \"role\": \"user\",\n",
    "            \"content\": (\n",
    "                f\"Determine the risk of this firewall rule:\\n\"\n",
    "                f\"- Source IP: {source_ip}\\n\"\n",
    "                f\"- Destination IP: {destination_ip}\\n\"\n",
    "                f\"- Port: {port}\\n\"\n",
    "                f\"- Protocol: {protocol}\"\n",
    "            ),\n",
    "        },\n",
    "    ]"
   ]
  },
  {
   "cell_type": "markdown",
   "metadata": {},
   "source": [
    "### Go through CSV row-by-row"
   ]
  },
  {
   "cell_type": "code",
   "execution_count": 31,
   "metadata": {},
   "outputs": [
    {
     "name": "stdout",
     "output_type": "stream",
     "text": [
      "[{'role': 'system', 'content': 'You are a security risk assessment assistant that helps users evaluate whether an Azure Firewall rule is risky. You interact in natural language and use available tools when needed.\\n\\nYou have access to an Azure Cognitive Search index containing public risk data about IP ranges and ports. Use the appropriate function depending on what information is provided:\\n- `query_risky_ip_ranges(ip_range)`: use this when only the IP address or IP range is provided.\\n- `query_risky_ports(port, protocol)`: use this when only the port and protocol are provided.\\n- `query_public_risk_data(source_ip, destination_ip, port, protocol)`: use this when all sourceIp, destination IP, port and protocol are provided.\\n\\nYour goals:\\n- Evaluate firewall rules using available data.\\n- Use CVSS score and descriptions to assess risk when available.\\n- If no data is found or input is incomplete, ask follow-up questions or make an informed estimate.\\n- Assign a confidence score (0–100%) based on how complete and reliable the information is.\\n\\nRisk classification based on CVSS:\\n- `High Risk`: score ≥ 7.0\\n- `Medium Risk`: 4.0 ≤ score < 7.0\\n- `Low Risk`: score < 4.0\\n\\nReturn your output in the form of a markdown table with the following columns:\\n\\n| Source IP | Destination IP | Port | Protocol | Risk Level | CVSS Score | Description | Recommendation | Confidence Score |\\n|-----------|----------------|------|----------|------------|-------------|-------------|----------------|------------------|\\n\\n- Populate each column with your findings.\\n- Include all user-provided input fields (IP, port, protocol) in the table.\\n- Risk Level should be based on CVSS or logical inference.\\n- Recommendation should be one of: \"Block this rule\", \"Monitor this rule\", or \"Allow this rule\".\\n- If CVSS score is unavailable, use \"N/A\".\\n\\nOnly output the final markdown table. Do not include explanations, summaries, or any additional text.'}, {'role': 'user', 'content': 'Determine the risk of this firewall rule:\\n- Source IP: 10.0.0.0/24\\n- Destination IP: 20.0.0.0/24\\n- Port: 80,8080\\n- Protocol: TCP'}]\n",
      "Recommended Function Call: ChatCompletionMessageToolCall(id='call_AP3XQIh1Ckhct3gdOuRCqpZz', function=Function(arguments='{\"source_ip\": \"10.0.0.0/24\", \"destination_ip\": \"20.0.0.0/24\", \"port\": \"80\", \"protocol\": \"TCP\"}', name='query_firewall_rule_public_risk'), type='function')\n",
      "Final response:\n",
      "Error while calling 'query_firewall_rule_public_risk': (InvalidRequestParameter) Failed to parse query string at line 1, column 12. See https://aka.ms/azure-search-full-query for supported syntax.\n",
      "Code: InvalidRequestParameter\n",
      "Message: Failed to parse query string at line 1, column 12. See https://aka.ms/azure-search-full-query for supported syntax.\n",
      "Exception Details:\t(InvalidSearchSyntax) Failed to parse query string at line 1, column 12. See https://aka.ms/azure-search-full-query for supported syntax.\n",
      "\tCode: InvalidSearchSyntax\n",
      "\tMessage: Failed to parse query string at line 1, column 12. See https://aka.ms/azure-search-full-query for supported syntax.\n",
      "[{'role': 'system', 'content': 'You are a security risk assessment assistant that helps users evaluate whether an Azure Firewall rule is risky. You interact in natural language and use available tools when needed.\\n\\nYou have access to an Azure Cognitive Search index containing public risk data about IP ranges and ports. Use the appropriate function depending on what information is provided:\\n- `query_risky_ip_ranges(ip_range)`: use this when only the IP address or IP range is provided.\\n- `query_risky_ports(port, protocol)`: use this when only the port and protocol are provided.\\n- `query_public_risk_data(source_ip, destination_ip, port, protocol)`: use this when all sourceIp, destination IP, port and protocol are provided.\\n\\nYour goals:\\n- Evaluate firewall rules using available data.\\n- Use CVSS score and descriptions to assess risk when available.\\n- If no data is found or input is incomplete, ask follow-up questions or make an informed estimate.\\n- Assign a confidence score (0–100%) based on how complete and reliable the information is.\\n\\nRisk classification based on CVSS:\\n- `High Risk`: score ≥ 7.0\\n- `Medium Risk`: 4.0 ≤ score < 7.0\\n- `Low Risk`: score < 4.0\\n\\nReturn your output in the form of a markdown table with the following columns:\\n\\n| Source IP | Destination IP | Port | Protocol | Risk Level | CVSS Score | Description | Recommendation | Confidence Score |\\n|-----------|----------------|------|----------|------------|-------------|-------------|----------------|------------------|\\n\\n- Populate each column with your findings.\\n- Include all user-provided input fields (IP, port, protocol) in the table.\\n- Risk Level should be based on CVSS or logical inference.\\n- Recommendation should be one of: \"Block this rule\", \"Monitor this rule\", or \"Allow this rule\".\\n- If CVSS score is unavailable, use \"N/A\".\\n\\nOnly output the final markdown table. Do not include explanations, summaries, or any additional text.'}, {'role': 'user', 'content': 'Determine the risk of this firewall rule:\\n- Source IP: 10.0.0.0/24\\n- Destination IP: 20.0.0.0/24\\n- Port: 443\\n- Protocol: TCP'}]\n",
      "Recommended Function Call: ChatCompletionMessageToolCall(id='call_XEMPteVNwkE77GNmJIUJjIpo', function=Function(arguments='{\"source_ip\":\"10.0.0.0/24\",\"destination_ip\":\"20.0.0.0/24\",\"port\":\"443\",\"protocol\":\"TCP\"}', name='query_firewall_rule_public_risk'), type='function')\n",
      "Final response:\n",
      "Error while calling 'query_firewall_rule_public_risk': (InvalidRequestParameter) Failed to parse query string at line 1, column 12. See https://aka.ms/azure-search-full-query for supported syntax.\n",
      "Code: InvalidRequestParameter\n",
      "Message: Failed to parse query string at line 1, column 12. See https://aka.ms/azure-search-full-query for supported syntax.\n",
      "Exception Details:\t(InvalidSearchSyntax) Failed to parse query string at line 1, column 12. See https://aka.ms/azure-search-full-query for supported syntax.\n",
      "\tCode: InvalidSearchSyntax\n",
      "\tMessage: Failed to parse query string at line 1, column 12. See https://aka.ms/azure-search-full-query for supported syntax.\n",
      "[{'role': 'system', 'content': 'You are a security risk assessment assistant that helps users evaluate whether an Azure Firewall rule is risky. You interact in natural language and use available tools when needed.\\n\\nYou have access to an Azure Cognitive Search index containing public risk data about IP ranges and ports. Use the appropriate function depending on what information is provided:\\n- `query_risky_ip_ranges(ip_range)`: use this when only the IP address or IP range is provided.\\n- `query_risky_ports(port, protocol)`: use this when only the port and protocol are provided.\\n- `query_public_risk_data(source_ip, destination_ip, port, protocol)`: use this when all sourceIp, destination IP, port and protocol are provided.\\n\\nYour goals:\\n- Evaluate firewall rules using available data.\\n- Use CVSS score and descriptions to assess risk when available.\\n- If no data is found or input is incomplete, ask follow-up questions or make an informed estimate.\\n- Assign a confidence score (0–100%) based on how complete and reliable the information is.\\n\\nRisk classification based on CVSS:\\n- `High Risk`: score ≥ 7.0\\n- `Medium Risk`: 4.0 ≤ score < 7.0\\n- `Low Risk`: score < 4.0\\n\\nReturn your output in the form of a markdown table with the following columns:\\n\\n| Source IP | Destination IP | Port | Protocol | Risk Level | CVSS Score | Description | Recommendation | Confidence Score |\\n|-----------|----------------|------|----------|------------|-------------|-------------|----------------|------------------|\\n\\n- Populate each column with your findings.\\n- Include all user-provided input fields (IP, port, protocol) in the table.\\n- Risk Level should be based on CVSS or logical inference.\\n- Recommendation should be one of: \"Block this rule\", \"Monitor this rule\", or \"Allow this rule\".\\n- If CVSS score is unavailable, use \"N/A\".\\n\\nOnly output the final markdown table. Do not include explanations, summaries, or any additional text.'}, {'role': 'user', 'content': 'Determine the risk of this firewall rule:\\n- Source IP: 10.0.0.0/24\\n- Destination IP: 20.0.0.0/24\\n- Port: 3389\\n- Protocol: TCP'}]\n",
      "Recommended Function Call: ChatCompletionMessageToolCall(id='call_ad4VihfwhHwQfIovvPNTWH08', function=Function(arguments='{\"source_ip\":\"10.0.0.0/24\",\"destination_ip\":\"20.0.0.0/24\",\"port\":\"3389\",\"protocol\":\"TCP\"}', name='query_firewall_rule_public_risk'), type='function')\n",
      "Final response:\n",
      "Error while calling 'query_firewall_rule_public_risk': (InvalidRequestParameter) Failed to parse query string at line 1, column 12. See https://aka.ms/azure-search-full-query for supported syntax.\n",
      "Code: InvalidRequestParameter\n",
      "Message: Failed to parse query string at line 1, column 12. See https://aka.ms/azure-search-full-query for supported syntax.\n",
      "Exception Details:\t(InvalidSearchSyntax) Failed to parse query string at line 1, column 12. See https://aka.ms/azure-search-full-query for supported syntax.\n",
      "\tCode: InvalidSearchSyntax\n",
      "\tMessage: Failed to parse query string at line 1, column 12. See https://aka.ms/azure-search-full-query for supported syntax.\n",
      "[{'role': 'system', 'content': 'You are a security risk assessment assistant that helps users evaluate whether an Azure Firewall rule is risky. You interact in natural language and use available tools when needed.\\n\\nYou have access to an Azure Cognitive Search index containing public risk data about IP ranges and ports. Use the appropriate function depending on what information is provided:\\n- `query_risky_ip_ranges(ip_range)`: use this when only the IP address or IP range is provided.\\n- `query_risky_ports(port, protocol)`: use this when only the port and protocol are provided.\\n- `query_public_risk_data(source_ip, destination_ip, port, protocol)`: use this when all sourceIp, destination IP, port and protocol are provided.\\n\\nYour goals:\\n- Evaluate firewall rules using available data.\\n- Use CVSS score and descriptions to assess risk when available.\\n- If no data is found or input is incomplete, ask follow-up questions or make an informed estimate.\\n- Assign a confidence score (0–100%) based on how complete and reliable the information is.\\n\\nRisk classification based on CVSS:\\n- `High Risk`: score ≥ 7.0\\n- `Medium Risk`: 4.0 ≤ score < 7.0\\n- `Low Risk`: score < 4.0\\n\\nReturn your output in the form of a markdown table with the following columns:\\n\\n| Source IP | Destination IP | Port | Protocol | Risk Level | CVSS Score | Description | Recommendation | Confidence Score |\\n|-----------|----------------|------|----------|------------|-------------|-------------|----------------|------------------|\\n\\n- Populate each column with your findings.\\n- Include all user-provided input fields (IP, port, protocol) in the table.\\n- Risk Level should be based on CVSS or logical inference.\\n- Recommendation should be one of: \"Block this rule\", \"Monitor this rule\", or \"Allow this rule\".\\n- If CVSS score is unavailable, use \"N/A\".\\n\\nOnly output the final markdown table. Do not include explanations, summaries, or any additional text.'}, {'role': 'user', 'content': 'Determine the risk of this firewall rule:\\n- Source IP: 10.0.0.0/24\\n- Destination IP: 20.0.0.0/24\\n- Port: *\\n- Protocol: ICMP'}]\n",
      "Recommended Function Call: ChatCompletionMessageToolCall(id='call_niHfmHYAygH9JPmg5nLuG1as', function=Function(arguments='{\"ip_range\": \"10.0.0.0/24\"}', name='query_risky_ip_ranges'), type='function')\n",
      "Final response:\n",
      "Error while calling 'query_risky_ip_ranges': (InvalidRequestParameter) Failed to parse query string at line 1, column 12. See https://aka.ms/azure-search-full-query for supported syntax.\n",
      "Code: InvalidRequestParameter\n",
      "Message: Failed to parse query string at line 1, column 12. See https://aka.ms/azure-search-full-query for supported syntax.\n",
      "Exception Details:\t(InvalidSearchSyntax) Failed to parse query string at line 1, column 12. See https://aka.ms/azure-search-full-query for supported syntax.\n",
      "\tCode: InvalidSearchSyntax\n",
      "\tMessage: Failed to parse query string at line 1, column 12. See https://aka.ms/azure-search-full-query for supported syntax.\n"
     ]
    }
   ],
   "source": [
    "for index, row in test_data.iterrows():\n",
    "    source_ip = row.get(\"sourceaddresses\", \"unknown\")\n",
    "    destination_ip = row.get(\"destinationaddresses\", \"unknown\")\n",
    "    port = row.get(\"destinationports\", \"unknown\")\n",
    "    protocol = row.get(\"protocols\", \"unknown\")\n",
    "\n",
    "    message = create_message(system_message, source_ip, destination_ip, port, protocol)\n",
    "\n",
    "    print(message)\n",
    "\n",
    "\n",
    "    result = run_conversation(message, tools, available_functions, debug=True)\n",
    "\n",
    "    print(\"Final response:\")\n",
    "    if isinstance(result, str):\n",
    "        print(result)  # It's an error message or string content\n",
    "    else:\n",
    "        print(f\"assessing the risk of {source_ip}, {destination_ip}, {port}, {protocol}\")\n",
    "        print(result.choices[0].message.content)  # It's a ChatCompletionMessage object\n",
    "    #print(result.choices[0].message.content)\n",
    "\n",
    "    "
   ]
  }
 ],
 "metadata": {
  "kernelspec": {
   "display_name": ".venv",
   "language": "python",
   "name": "python3"
  },
  "language_info": {
   "codemirror_mode": {
    "name": "ipython",
    "version": 3
   },
   "file_extension": ".py",
   "mimetype": "text/x-python",
   "name": "python",
   "nbconvert_exporter": "python",
   "pygments_lexer": "ipython3",
   "version": "3.12.4"
  }
 },
 "nbformat": 4,
 "nbformat_minor": 2
}
