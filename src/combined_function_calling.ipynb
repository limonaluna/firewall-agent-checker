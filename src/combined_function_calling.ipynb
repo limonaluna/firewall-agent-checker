{
 "cells": [
  {
   "cell_type": "markdown",
   "metadata": {},
   "source": [
    "## Setup"
   ]
  },
  {
   "cell_type": "code",
   "execution_count": 70,
   "metadata": {},
   "outputs": [
    {
     "data": {
      "text/plain": [
       "True"
      ]
     },
     "execution_count": 70,
     "metadata": {},
     "output_type": "execute_result"
    }
   ],
   "source": [
    "import os\n",
    "from openai import AzureOpenAI\n",
    "import argparse\n",
    "import sys\n",
    "import json\n",
    "from azure.search.documents import SearchClient\n",
    "from azure.core.credentials import AzureKeyCredential\n",
    "import csv\n",
    "\n",
    "#Load environment variables\n",
    "from dotenv import load_dotenv\n",
    "load_dotenv()"
   ]
  },
  {
   "cell_type": "code",
   "execution_count": 2,
   "metadata": {},
   "outputs": [],
   "source": [
    "#instatiate Azure OpenAI client\n",
    "client = AzureOpenAI(\n",
    "  azure_endpoint = os.getenv(\"AZURE_OPENAI_ENDPOINT\"), \n",
    "  api_key=os.getenv(\"AZURE_OPENAI_API_KEY\"),  \n",
    "  api_version=os.getenv(\"AZURE_OPENAI_API_VERSION\")\n",
    ")\n",
    "\n",
    "model = os.getenv(\"AZURE_OPENAI_DEPLOYMENT_NAME\")\n"
   ]
  },
  {
   "cell_type": "markdown",
   "metadata": {},
   "source": [
    "## Quick connection test to Azure OpenAI"
   ]
  },
  {
   "cell_type": "code",
   "execution_count": 3,
   "metadata": {},
   "outputs": [
    {
     "name": "stdout",
     "output_type": "stream",
     "text": [
      "Yes, several other Azure AI services support **Customer Managed Keys (CMKs)**, which allow you to have greater control over the encryption keys used to protect your data. CMKs are typically stored and managed in **Azure Key Vault** or **Azure Managed HSM (Hardware Security Module)**. Below are some notable Azure AI services that also support CMKs:\n",
      "\n",
      "### 1. **Azure Cognitive Search**\n",
      "   - Azure Cognitive Search supports CMKs, allowing you to encrypt your indexing and storage data using keys you control in Azure Key Vault.\n",
      "   - With CMKs, you can revoke or rotate keys, helping you maintain compliance with your organization's security policies.\n",
      "\n",
      "### 2. **Azure Machine Learning (AML)**\n",
      "   - Azure Machine Learning supports customer-managed keys to encrypt data used in experiments, datasets, models, and other workspace resources.\n",
      "   - Your keys are stored in Azure Key Vault, and integration with AML ensures your data is protected at rest.\n",
      "\n",
      "### 3. **Azure Cognitive Services**\n",
      "   - Many Azure Cognitive Services, such as Translator, Speech, and others, support CMKs for encryption at rest.\n",
      "   - This ensures sensitive data processed and stored by these services has strengthened encryption controls.\n",
      "\n",
      "### 4. **Azure Synapse Analytics (for AI and ML processes)**\n",
      "   - While not a direct \"AI service,\" Azure Synapse, which integrates AI and machine learning capabilities, supports CMKs for encrypting data stored in Synapse workspaces.\n",
      "\n",
      "### Benefits of CMKs in Azure AI Services:\n",
      "- **Key Ownership**: You have complete control over the encryption keys.\n",
      "- **Key Rotation**: You can rotate keys regularly to enhance security.\n",
      "- **Key Revocation**: If necessary, you can revoke access to keys, ensuring the data is immediately inaccessible.\n",
      "- **Compliance**: Helps organizations meet compliance and regulatory requirements for data protection and governance.\n",
      "\n",
      "If you're planning to use CMKs with any Azure service, ensure you review the specific documentation of that service to understand its supported capabilities, configuration requirements, and any potential limitations.\n"
     ]
    }
   ],
   "source": [
    "#Test connection\n",
    "response = client.chat.completions.create(\n",
    "    model=model, # model = \"deployment_name\".\n",
    "    messages=[\n",
    "        {\"role\": \"system\", \"content\": \"You are a helpful assistant.\"},\n",
    "        {\"role\": \"user\", \"content\": \"Does Azure OpenAI support customer managed keys?\"},\n",
    "        {\"role\": \"assistant\", \"content\": \"Yes, customer managed keys are supported by Azure OpenAI.\"},\n",
    "        {\"role\": \"user\", \"content\": \"Do other Azure AI services support this too?\"}\n",
    "    ]\n",
    ")\n",
    "\n",
    "print(response.choices[0].message.content)"
   ]
  },
  {
   "cell_type": "code",
   "execution_count": 4,
   "metadata": {},
   "outputs": [],
   "source": [
    "# Configure environment variables for Azure Cognitive Search\n",
    "search_service_endpoint = os.getenv(\"AZURE_AI_SEARCH_ENDPOINT\")\n",
    "search_index_name = os.getenv(\"AZURE_AI_SEARCH_INDEX\")\n",
    "search_api_key = os.getenv(\"AZURE_AI_SEARCH_API_KEY\")\n",
    "credential = AzureKeyCredential(\"AZURE_AI_SEARCH_API_KEY\")"
   ]
  },
  {
   "cell_type": "code",
   "execution_count": 5,
   "metadata": {},
   "outputs": [],
   "source": [
    "# Initialize the Azure Cognitive Search client\n",
    "search_client = SearchClient(\n",
    "    endpoint=search_service_endpoint,\n",
    "    index_name=search_index_name,\n",
    "    credential=AzureKeyCredential(search_api_key)\n",
    ")"
   ]
  },
  {
   "cell_type": "markdown",
   "metadata": {},
   "source": [
    "## Testing of function calling"
   ]
  },
  {
   "cell_type": "code",
   "execution_count": 49,
   "metadata": {},
   "outputs": [
    {
     "name": "stdout",
     "output_type": "stream",
     "text": [
      "ChatCompletionMessage(content=None, refusal=None, role='assistant', annotations=None, audio=None, function_call=None, tool_calls=[ChatCompletionMessageToolCall(id='call_WsopWUxrF9bxdH8pc8lmNNKX', function=Function(arguments='{\"source_ip\":\"193.163.125.240\",\"destination_ip\":\"193.163.125.245\",\"port\":\"20\",\"protocol\":\"tcp\"}', name='query_firewall_rule_public_risk'), type='function')])\n"
     ]
    }
   ],
   "source": [
    "system_message = \"\"\"Assistant supports users to determine whether a firewall rule is risky or not.\n",
    "You have access to an Azure Cognitive Search index with a list of ports and IP ranges that are classified as risky. You can search for entries by \"ip_ranges\"\n",
    "You are designed to be an interactive assistant, so you can ask users clarifying questions to help them determine whether the firewall rule is risky. It's better to give more detailed queries to the search index rather than vague one.\n",
    "\"\"\"\n",
    "\n",
    "messages = [{\"role\": \"system\", \"content\": system_message},\n",
    "            {\"role\": \"user\", \"content\": \"Help me find out whether this firewall rule is risky or not: source-ip is 193.163.125.240, destination-ip is 193.163.125.245, port is 20, protocol is tcp\"}]\n",
    "\n",
    "#\"role\": \"user\", \"content\": \"Help me find out whether this firewall rule is risky or not: 193.163.125.240\"\n",
    "#\"role\": \"user\", \"content\": \"Help me find out whether this firewall rule is risky or not: ip-range is 193.163.125.240, port is 20\"\n",
    "#\"role\": \"user\", \"content\": \"Help me find out whether this firewall rule is risky or not: source-ip is 193.163.125.240, destination-ip is 193.163.125.245, and port is 20\"\n",
    "#\"role\": \"user\", \"content\": \"Help me find out whether this firewall rule is risky or not: source-ip is 193.163.125.240, destination-ip is 193.163.125.245, port is 20, protocol is tcp\"\n",
    "\n",
    "tools = [\n",
    "    {\n",
    "        \"type\": \"function\",\n",
    "        \"function\": {\n",
    "            \"name\": \"query_risky_ip_ranges\",\n",
    "            \"description\": \"Retrieve risky IP ranges from Azure AI Search index\",\n",
    "            \"parameters\": {\n",
    "                \"type\": \"object\",\n",
    "                \"properties\": {\n",
    "                    \"ip_range\": {\n",
    "                        \"type\": \"string\",\n",
    "                        \"description\": \"The ip-range from the firewall rule request to search for in the risky IP range index\",\n",
    "                    },\n",
    "                },\n",
    "                \"required\": [\"ip_range\"],\n",
    "            },\n",
    "        },\n",
    "    },\n",
    "    {\n",
    "        \"type\": \"function\",\n",
    "        \"function\": {\n",
    "            \"name\": \"query_risky_ports\",\n",
    "            \"description\": \"Retrieve risky ports from Azure AI Search index\",\n",
    "            \"parameters\": {\n",
    "                \"type\": \"object\",\n",
    "                \"properties\": {\n",
    "                    \"port\": {\n",
    "                        \"type\": \"string\",\n",
    "                        \"description\": \"The port number from the firewall rule request to search for in the risky ports index\",\n",
    "                    },\n",
    "                    \"protocol\": {\n",
    "                        \"type\": \"string\",\n",
    "                        \"description\": \"The protocol from the firewall rule request to search for in the risky ports index\",\n",
    "                    },\n",
    "                },\n",
    "                \"required\": [\"port\"],\n",
    "            },\n",
    "        },\n",
    "    },\n",
    "    {\n",
    "        \"type\": \"function\",\n",
    "        \"function\": {\n",
    "            \"name\": \"query_firewall_rule_public_risk\",\n",
    "            \"description\": \"Takes source IP, destination IP and port as input and returns whether there is any public risk information associated with the firewall rule\",\n",
    "            \"parameters\": {\n",
    "                \"type\": \"object\",\n",
    "                \"properties\": {\n",
    "                    \"source_ip\": {\n",
    "                        \"type\": \"string\",\n",
    "                        \"description\": \"The source ip-range from the firewall rule request to search for in the risky IP range index\",\n",
    "                    },\n",
    "                    \"destination_ip\": {\n",
    "                        \"type\": \"string\",\n",
    "                        \"description\": \"The destination ip-range from the firewall rule request to search for in the risky IP range index\",\n",
    "                    },\n",
    "                    \"port\": {\n",
    "                        \"type\": \"string\",\n",
    "                        \"description\": \"The port number from the firewall rule request to search for in the risky ports index\",\n",
    "                    },\n",
    "                    \"protocol\": {\n",
    "                        \"type\": \"string\",\n",
    "                        \"description\": \"The protocol from the firewall rule request to search for in the risky ports index\",\n",
    "                    },\n",
    "                },\n",
    "                \"required\": [\"source_ip\",\"destination_ip\",\"port\", \"protocol\"],\n",
    "            },\n",
    "        },\n",
    "    },\n",
    "]\n",
    "\n",
    "response = client.chat.completions.create(\n",
    "    model=model,\n",
    "    messages=messages,\n",
    "    tools=tools,\n",
    "    temperature=0.2,\n",
    "    tool_choice=\"auto\",\n",
    ")\n",
    "\n",
    "print(response.choices[0].message)"
   ]
  },
  {
   "cell_type": "markdown",
   "metadata": {},
   "source": [
    "## Function Definitions"
   ]
  },
  {
   "cell_type": "code",
   "execution_count": null,
   "metadata": {},
   "outputs": [],
   "source": [
    "def query_risky_ip_ranges(ip_range):\n",
    "    results = search_client.search(\n",
    "        search_text=ip_range,  # Perform a keyword search using the provided IP range\n",
    "        query_type=\"full\",  # Use simple query type for keyword search\n",
    "        search_fields=[\"ip_ranges\"],  # Field to search for the IP range\n",
    "        select=[\"risk_id\", \"description\", \"cvss_score\", \"ports\", \"protocols\", \"ip_ranges\", \"last_updated\"],  # Select relevant fields\n",
    "        top=1  # Limit to top 1 results\n",
    "    )\n",
    "\n",
    "    top_result = next(iter(results), None)\n",
    "    if top_result:\n",
    "        return json.dumps({\n",
    "            \"risk_id\": top_result[\"risk_id\"],\n",
    "            \"description\": top_result[\"description\"],\n",
    "            \"cvss_score\": top_result[\"cvss_score\"],\n",
    "            \"ports\": top_result[\"ports\"],\n",
    "            \"protocols\": top_result[\"protocols\"],\n",
    "            \"ip_ranges\": top_result[\"ip_ranges\"],\n",
    "            \"last_updated\": top_result[\"last_updated\"]\n",
    "        }, indent=2)\n",
    "\n",
    "    return \"No risky IP range found for this input.\""
   ]
  },
  {
   "cell_type": "code",
   "execution_count": 43,
   "metadata": {},
   "outputs": [],
   "source": [
    "def query_risky_ports(port, protocol):\n",
    "    results = search_client.search(\n",
    "        search_text=\"*\",  # Perform a keyword search using the provided port\n",
    "        filter=f\"ports eq '{port}' and protocols eq '{protocol}'\",  # Filter by the specified port and protocol \n",
    "        query_type=\"full\",  # Use simple query type for keyword search\n",
    "        select=[\"risk_id\", \"description\", \"cvss_score\", \"ports\", \"protocols\", \"ip_ranges\", \"last_updated\"],  # Select relevant fields\n",
    "        top=1  # Limit to top 1 results\n",
    "    )\n",
    "\n",
    "    top_result = next(iter(results), None)\n",
    "    if top_result:\n",
    "        return json.dumps({\n",
    "            \"risk_id\": top_result[\"risk_id\"],\n",
    "            \"description\": top_result[\"description\"],\n",
    "            \"cvss_score\": top_result[\"cvss_score\"],\n",
    "            \"ports\": top_result[\"ports\"],\n",
    "            \"protocols\": top_result[\"protocols\"],\n",
    "            \"ip_ranges\": top_result[\"ip_ranges\"],\n",
    "            \"last_updated\": top_result[\"last_updated\"]\n",
    "        }, indent=2)\n",
    "\n",
    "    return \"No risky port found for this input.\""
   ]
  },
  {
   "cell_type": "code",
   "execution_count": 44,
   "metadata": {},
   "outputs": [],
   "source": [
    "def query_firewall_rule_public_risk(source_ip, destination_ip, port, protocol):\n",
    "    source_ip_risk = query_risky_ip_ranges(source_ip)\n",
    "    destination_ip_risk = query_risky_ip_ranges(destination_ip)\n",
    "    port_risk = query_risky_ports(port, protocol)\n",
    "    #todo: add protocol\n",
    "    return json.dumps(\n",
    "        {\n",
    "        \"source_ip\": source_ip_risk,\n",
    "        \"destination_ip\": destination_ip_risk,\n",
    "        \"port\": port_risk\n",
    "    }, indent=2)"
   ]
  },
  {
   "cell_type": "code",
   "execution_count": 47,
   "metadata": {},
   "outputs": [
    {
     "name": "stdout",
     "output_type": "stream",
     "text": [
      "{\n",
      "  \"source_ip\": \"{\\n  \\\"risk_id\\\": \\\"R401\\\",\\n  \\\"description\\\": \\\"Reported abusive IP\\\",\\n  \\\"cvss_score\\\": \\\"10.0\\\",\\n  \\\"ports\\\": null,\\n  \\\"protocols\\\": null,\\n  \\\"ip_ranges\\\": \\\"193.163.125.241\\\",\\n  \\\"last_updated\\\": \\\"2025-03-03T00:00:00Z\\\"\\n}\",\n",
      "  \"destination_ip\": \"No risky IP range found for this input.\",\n",
      "  \"port\": \"{\\n  \\\"risk_id\\\": \\\"R002\\\",\\n  \\\"description\\\": \\\"FTP Data- Unencrypted file transfer\\\",\\n  \\\"cvss_score\\\": \\\"5.0\\\",\\n  \\\"ports\\\": \\\"20\\\",\\n  \\\"protocols\\\": \\\"tcp\\\",\\n  \\\"ip_ranges\\\": \\\"0.0.0.0/0\\\",\\n  \\\"last_updated\\\": \\\"2025-03-03T00:00:00Z\\\"\\n}\"\n",
      "}\n"
     ]
    }
   ],
   "source": [
    "test_firewall_rule_public_risk = query_firewall_rule_public_risk(\"193.163.125.241\",\"193.163.125.245\", \"20\", \"tcp\")\n",
    "print(test_firewall_rule_public_risk)"
   ]
  },
  {
   "cell_type": "code",
   "execution_count": null,
   "metadata": {},
   "outputs": [],
   "source": [
    "def query_public_risk_data(ip_range, port):\n",
    "    # Search for the IP range\n",
    "    ip_range_result = search_client.search(\n",
    "        search_text=ip_range,\n",
    "        query_type=\"full\",\n",
    "        search_fields=[\"ip_ranges\"],\n",
    "        select=[\"risk_id\", \"description\", \"cvss_score\", \"ports\", \"protocols\", \"ip_ranges\", \"last_updated\"],\n",
    "        top=1\n",
    "    )\n",
    "    ip_range_info = next(iter(ip_range_result), None)\n",
    "    ip_range_risk = \"No risky IP range found for this input.\"\n",
    "    if ip_range_info:\n",
    "        ip_range_risk = {\n",
    "            \"risk_id\": ip_range_info[\"risk_id\"],\n",
    "            \"description\": ip_range_info[\"description\"],\n",
    "            \"cvss_score\": ip_range_info[\"cvss_score\"],\n",
    "            \"ports\": ip_range_info[\"ports\"],\n",
    "            \"protocols\": ip_range_info[\"protocols\"],\n",
    "            \"ip_ranges\": ip_range_info[\"ip_ranges\"],\n",
    "            \"last_updated\": ip_range_info[\"last_updated\"]\n",
    "        }\n",
    "\n",
    "    # Search for the port\n",
    "    port_result = search_client.search(\n",
    "        search_text=str(port),\n",
    "        query_type=\"full\",\n",
    "        search_fields=[\"ports\"],\n",
    "        select=[\"risk_id\", \"description\", \"cvss_score\", \"ports\", \"protocols\", \"ip_ranges\", \"last_updated\"],\n",
    "        top=1\n",
    "    )\n",
    "    port_info = next(iter(port_result), None)\n",
    "    port_risk = \"No risky port found for this input.\"\n",
    "    if port_info:\n",
    "        port_risk = {\n",
    "            \"risk_id\": port_info[\"risk_id\"],\n",
    "            \"description\": port_info[\"description\"],\n",
    "            \"cvss_score\": port_info[\"cvss_score\"],\n",
    "            \"ports\": port_info[\"ports\"],\n",
    "            \"protocols\": port_info[\"protocols\"],\n",
    "            \"ip_ranges\": port_info[\"ip_ranges\"],\n",
    "            \"last_updated\": port_info[\"last_updated\"]\n",
    "        }\n",
    "\n",
    "    # Combine results\n",
    "    return {\n",
    "        \"ip_range_risk\": ip_range_risk,\n",
    "        \"port_risk\": port_risk\n",
    "    }"
   ]
  },
  {
   "cell_type": "code",
   "execution_count": 37,
   "metadata": {},
   "outputs": [
    {
     "name": "stdout",
     "output_type": "stream",
     "text": [
      "{'ip_range_risk': {'risk_id': 'R401', 'description': 'Reported abusive IP', 'cvss_score': '10.0', 'ports': None, 'protocols': None, 'ip_ranges': '193.163.125.241', 'last_updated': '2025-03-03T00:00:00Z'}, 'port_risk': {'risk_id': 'R002', 'description': 'FTP Data- Unencrypted file transfer', 'cvss_score': '5.0', 'ports': '20', 'protocols': 'tcp', 'ip_ranges': '0.0.0.0/0', 'last_updated': '2025-03-03T00:00:00Z'}}\n"
     ]
    }
   ],
   "source": [
    "test_public_risk = query_public_risk_data(\"193.163.125.241\",\"20\")\n",
    "print(test_public_risk)"
   ]
  },
  {
   "cell_type": "code",
   "execution_count": 30,
   "metadata": {},
   "outputs": [
    {
     "name": "stdout",
     "output_type": "stream",
     "text": [
      "{\n",
      "  \"risk_id\": \"R002\",\n",
      "  \"description\": \"FTP Data- Unencrypted file transfer\",\n",
      "  \"cvss_score\": \"5.0\",\n",
      "  \"ports\": \"20\",\n",
      "  \"protocols\": \"tcp\",\n",
      "  \"ip_ranges\": \"0.0.0.0/0\",\n",
      "  \"last_updated\": \"2025-03-03T00:00:00Z\"\n",
      "}\n"
     ]
    }
   ],
   "source": [
    "test_ports_risky = query_risky_ports(\"20\")\n",
    "print(test_ports_risky)\n"
   ]
  },
  {
   "cell_type": "code",
   "execution_count": null,
   "metadata": {},
   "outputs": [
    {
     "name": "stdout",
     "output_type": "stream",
     "text": [
      "{\n",
      "  \"risk_id\": \"R401\",\n",
      "  \"description\": \"Reported abusive IP\",\n",
      "  \"cvss_score\": \"10.0\",\n",
      "  \"ports\": null,\n",
      "  \"protocols\": null,\n",
      "  \"ip_ranges\": \"193.163.125.241\",\n",
      "  \"last_updated\": \"2025-03-03T00:00:00Z\"\n",
      "}\n"
     ]
    }
   ],
   "source": [
    "test_ipranges_risky = query_risky_ip_ranges(\"193.163.125.241\")\n",
    "print(test_ipranges_risky)"
   ]
  },
  {
   "cell_type": "code",
   "execution_count": 17,
   "metadata": {},
   "outputs": [
    {
     "name": "stdout",
     "output_type": "stream",
     "text": [
      "No risky IP range found for this input.\n"
     ]
    }
   ],
   "source": [
    "test_ipranges_unrisky = query_risky_ip_ranges(\"193.163.125.245\")\n",
    "print(test_ipranges_unrisky)"
   ]
  },
  {
   "cell_type": "code",
   "execution_count": 16,
   "metadata": {},
   "outputs": [
    {
     "name": "stdout",
     "output_type": "stream",
     "text": [
      "No risky port found for this input.\n"
     ]
    }
   ],
   "source": [
    "test_ports_unrisky = query_risky_ports(\"145\")\n",
    "print(test_ports_unrisky)"
   ]
  },
  {
   "cell_type": "markdown",
   "metadata": {},
   "source": [
    "## Conversation Handling"
   ]
  },
  {
   "cell_type": "code",
   "execution_count": null,
   "metadata": {},
   "outputs": [],
   "source": [
    "# With debug - optimized version\n",
    "def run_conversation(messages, tools, available_functions, debug=False):\n",
    "    def log(*args):\n",
    "        if debug:\n",
    "            print(*args)\n",
    "\n",
    "    # Step 1: send the conversation and available functions to GPT\n",
    "    response = client.chat.completions.create(\n",
    "        model=model,\n",
    "        messages=messages,\n",
    "        tools=tools,\n",
    "        tool_choice=\"auto\",\n",
    "        temperature=0.2,\n",
    "    )\n",
    "    response_message = response.choices[0].message\n",
    "\n",
    "    # Step 2: check if the model wants to call a function\n",
    "    if response_message.tool_calls:\n",
    "        tool_call = response_message.tool_calls[0]\n",
    "        function_name = tool_call.function.name\n",
    "        log(\"Recommended Function Call:\", tool_call)\n",
    "\n",
    "        # Step 3: validate and execute the function\n",
    "        if function_name not in available_functions:\n",
    "            return f\"Function '{function_name}' not found in available_functions.\"\n",
    "\n",
    "        function_to_call = available_functions[function_name]\n",
    "\n",
    "        try:\n",
    "            function_args = json.loads(tool_call.function.arguments)\n",
    "        except json.JSONDecodeError as e:\n",
    "            return f\"Failed to parse function arguments: {e}\"\n",
    "\n",
    "        try:\n",
    "            function_response = function_to_call(**function_args)\n",
    "        except Exception as e:\n",
    "            return f\"Error while calling '{function_name}': {e}\"\n",
    "\n",
    "        log(\"Function Output:\", function_response)\n",
    "\n",
    "        # Step 4: add tool call + function response to messages\n",
    "        messages.append(\n",
    "            {\n",
    "                \"role\": response_message.role,\n",
    "                \"function_call\": {\n",
    "                    \"name\": response_message.tool_calls[0].function.name,\n",
    "                    \"arguments\": response_message.tool_calls[0].function.arguments,\n",
    "                },\n",
    "                \"content\": None,\n",
    "            }\n",
    "        )\n",
    "\n",
    "        # adding function response to messages\n",
    "        messages.append(\n",
    "            {\n",
    "                \"role\": \"function\",\n",
    "                \"name\": function_name,\n",
    "                \"content\": function_response,\n",
    "            }\n",
    "        )  # extend conversation with function response\n",
    "\n",
    "        log(\"Messages passed in second request:\")\n",
    "        if debug:\n",
    "            for msg in messages:\n",
    "                print(msg)\n",
    "\n",
    "        second_response = client.chat.completions.create(\n",
    "            messages=messages,\n",
    "            model=model,\n",
    "        )  # get a new response from GPT where it can see the function response\n",
    "\n",
    "        return second_response\n",
    "    else:\n",
    "        return response"
   ]
  },
  {
   "cell_type": "code",
   "execution_count": null,
   "metadata": {},
   "outputs": [],
   "source": [
    "# without debug, everything is printed on console\n",
    "def run_conversation(messages, tools, available_functions):\n",
    "\n",
    "    # Step 1: send the conversation and available functions to GPT\n",
    "    response = client.chat.completions.create(\n",
    "        model=model,\n",
    "        messages=messages,\n",
    "        tools=tools,\n",
    "        tool_choice=\"auto\",\n",
    "        temperature=0.2,\n",
    "    )\n",
    "    response_message = response.choices[0].message\n",
    "\n",
    "    # Step 2: check if the model wants to call a function\n",
    "    if response_message.tool_calls:\n",
    "        print(\"Recommended Function call:\")\n",
    "        print(response_message.tool_calls[0])\n",
    "        print()\n",
    "\n",
    "        # Step 3: call the function\n",
    "        # Note: the JSON response may not always be valid; be sure to handle errors\n",
    "        function_name = response_message.tool_calls[0].function.name\n",
    "\n",
    "        # verify function exists\n",
    "        if function_name not in available_functions:\n",
    "            return \"Function \" + function_name + \" does not exist\"\n",
    "        function_to_call = available_functions[function_name]\n",
    "\n",
    "        try:\n",
    "            function_args = json.loads(response_message.tool_calls[0].function.arguments)\n",
    "        except json.JSONDecodeError as e:\n",
    "            return f\"Failed to parse function arguments: {e}\"\n",
    "\n",
    "        try:\n",
    "            function_response = function_to_call(**function_args)\n",
    "        except Exception as e:\n",
    "            return f\"Error while calling '{function_name}': {e}\"\n",
    "\n",
    "        #function_args = json.loads(response_message.tool_calls[0].function.arguments)\n",
    "        #function_response = function_to_call(**function_args)\n",
    "\n",
    "        print(\"Output of function call:\")\n",
    "        print(function_response)\n",
    "        print()\n",
    "\n",
    "        # Step 4: send the info on the function call and function response to the model\n",
    "\n",
    "        # adding assistant response to messages\n",
    "        messages.append(\n",
    "            {\n",
    "                \"role\": response_message.role,\n",
    "                \"function_call\": {\n",
    "                    \"name\": response_message.tool_calls[0].function.name,\n",
    "                    \"arguments\": response_message.tool_calls[0].function.arguments,\n",
    "                },\n",
    "                \"content\": None,\n",
    "            }\n",
    "        )\n",
    "\n",
    "        # adding function response to messages\n",
    "        messages.append(\n",
    "            {\n",
    "                \"role\": \"function\",\n",
    "                \"name\": function_name,\n",
    "                \"content\": function_response,\n",
    "            }\n",
    "        )  # extend conversation with function response\n",
    "\n",
    "        print(\"Messages in second request:\")\n",
    "        for message in messages:\n",
    "            print(message)\n",
    "        print()\n",
    "\n",
    "        second_response = client.chat.completions.create(\n",
    "            messages=messages,\n",
    "            model=model,\n",
    "        )  # get a new response from GPT where it can see the function response\n",
    "\n",
    "        return second_response\n",
    "    else:\n",
    "        return response"
   ]
  },
  {
   "cell_type": "markdown",
   "metadata": {},
   "source": [
    "## System Message experiments"
   ]
  },
  {
   "cell_type": "code",
   "execution_count": 80,
   "metadata": {},
   "outputs": [],
   "source": [
    "system_message = \"\"\"\n",
    "You are a security risk assessment assistant that helps users evaluate whether a given Azure Firewall rule is risky. You interact via natural language and use tools when needed.\n",
    "\n",
    "You have access to an Azure Cognitive Search index containing public risk data about IP ranges and ports. You can perform keyword-based searches using the following functions:\n",
    "- `query_risky_ip_ranges(ip_range)`: use this when only the IP address or IP range is provided.\n",
    "- `query_risky_ports(port, protocol)`: use this when only the port and protocol are provided.\n",
    "- `query_public_risk_data(ip_range, port, protocol)`: use this when all sourceIp, destination IP, port and protocol are provided.\n",
    "\n",
    "Your goals:\n",
    "- Analyze firewall rules based on available data.\n",
    "- When risky entries are found, use the CVSS score and descriptions to assess severity.\n",
    "- If no data is found, ask the user for clarification or more detail.\n",
    "\n",
    "Risk classification based on CVSS:\n",
    "- `High Risk`: score ≥ 7.0\n",
    "- `Medium Risk`: 4.0 ≤ score < 7.0\n",
    "- `Low Risk`: score < 4.0\n",
    "\n",
    "When forming your assessment:\n",
    "- Combine the IP and port risk data (if both are available).\n",
    "- If data is incomplete, explain assumptions or ask follow-up questions.\n",
    "- Estimate your confidence in the result as a percentage (0–100), based on data quality and completeness.\n",
    "\n",
    "Respond with a JSON object containing:\n",
    "{\n",
    "  \"risk_level\": \"High\" | \"Medium\" | \"Low\",\n",
    "  \"description\": \"<brief explanation of why this rule is risky or safe>\",\n",
    "  \"recommendation\": \"<action to take, e.g. 'Block this rule', 'Monitor this rule', 'Allow this rule'>\",\n",
    "  \"cvss_score\": \"<numeric value or 'N/A'>\",\n",
    "  \"confidence_score\": \"<percentage (0–100)>\"\n",
    "}\n",
    "\"\"\""
   ]
  },
  {
   "cell_type": "markdown",
   "metadata": {},
   "source": [
    "### tested system message"
   ]
  },
  {
   "cell_type": "code",
   "execution_count": 63,
   "metadata": {},
   "outputs": [],
   "source": [
    "system_message = \"\"\"\n",
    "You are a security risk assessment assistant that helps users evaluate whether an Azure Firewall rule is risky. You interact in natural language and use available tools when needed.\n",
    "\n",
    "You have access to an Azure Cognitive Search index containing public risk data about IP ranges and ports. Use the appropriate function depending on what information is provided:\n",
    "- `query_risky_ip_ranges(ip_range)`: use this when only the IP address or IP range is provided.\n",
    "- `query_risky_ports(port, protocol)`: use this when only the port and protocol are provided.\n",
    "- `query_public_risk_data(source_ip, destination_ip, port, protocol)`: use this when all sourceIp, destination IP, port and protocol are provided.\n",
    "\n",
    "Your goals:\n",
    "- Evaluate firewall rules using available data.\n",
    "- Use CVSS score and descriptions to assess risk when available.\n",
    "- If no data is found or input is incomplete, ask follow-up questions or make an informed estimate.\n",
    "- Assign a confidence score (0–100%) based on how complete and reliable the information is.\n",
    "\n",
    "Risk classification based on CVSS:\n",
    "- `High Risk`: score ≥ 7.0\n",
    "- `Medium Risk`: 4.0 ≤ score < 7.0\n",
    "- `Low Risk`: score < 4.0\n",
    "\n",
    "Return your output in the form of a markdown table with the following columns:\n",
    "\n",
    "| Source IP | Destination IP | Port | Protocol | Risk Level | CVSS Score | Description | Recommendation | Confidence Score |\n",
    "|-----------|----------------|------|----------|------------|-------------|-------------|----------------|------------------|\n",
    "\n",
    "- Populate each column with your findings.\n",
    "- Include all user-provided input fields (IP, port, protocol) in the table.\n",
    "- Risk Level should be based on CVSS or logical inference.\n",
    "- Recommendation should be one of: \"Block this rule\", \"Monitor this rule\", or \"Allow this rule\".\n",
    "- If CVSS score is unavailable, use \"N/A\".\n",
    "\n",
    "Only output the final markdown table. Do not include explanations, summaries, or any additional text.\n",
    "\"\"\""
   ]
  },
  {
   "cell_type": "markdown",
   "metadata": {},
   "source": [
    "## Test with a few chat inputs"
   ]
  },
  {
   "cell_type": "code",
   "execution_count": 81,
   "metadata": {},
   "outputs": [
    {
     "name": "stdout",
     "output_type": "stream",
     "text": [
      "Final response:\n",
      "Error while calling 'query_firewall_rule_public_risk': ('Connection aborted.', RemoteDisconnected('Remote end closed connection without response'))\n"
     ]
    }
   ],
   "source": [
    "messages = [\n",
    "    {\"role\": \"system\", \"content\": system_message},\n",
    "    {\n",
    "        \"role\": \"user\",\n",
    "        \"content\": \"Help me find out whether this firewall rule is risky or not: source-ip is 193.163.125.240, destination-ip is 193.163.125.245, port is 20, protocol is tcp\",\n",
    "    },\n",
    "]\n",
    "\n",
    "#testing for ip-range: \"content\": \"Help me find out whether this firewall rule is risky or not: 193.163.125.240\"\n",
    "#testing for port: \"content\": \"Help me find out whether this firewall rule is risky or not: port is 20\"\n",
    "#testing for port and ip-range:\"content\": \"Help me find out whether this firewall rule is risky or not: ip-range is 193.163.125.240, port is 20\"\n",
    "#testing for all together: \"content\": \"Help me find out whether this firewall rule is risky or not: source-ip is 193.163.125.240, destination-ip is 193.163.125.245, and port is 20\"\n",
    "#testing for all together: \"content\": \"Help me find out whether this firewall rule is risky or not: source-ip is 193.163.125.240, destination-ip is 193.163.125.245, port is 20, protocol is tcp\"\n",
    "\n",
    "\n",
    "available_functions = {\n",
    "    \"query_risky_ip_ranges\": query_risky_ip_ranges,\n",
    "    \"query_risky_ports\": query_risky_ports,\n",
    "    \"query_firewall_rule_public_risk\": query_firewall_rule_public_risk,\n",
    "}\n",
    "\n",
    "result = run_conversation(messages, tools, available_functions, debug=False)\n",
    "\n",
    "print(\"Final response:\")\n",
    "if isinstance(result, str):\n",
    "    print(result)  # It's an error message or string content\n",
    "else:\n",
    "    print(result.choices[0].message.content)  # It's a ChatCompletionMessage object\n",
    "#print(result.choices[0].message.content)"
   ]
  },
  {
   "cell_type": "markdown",
   "metadata": {},
   "source": [
    "## Test with existing firewall rules\n",
    "ToDo:\n",
    "\n",
    "read CSV file\n",
    "go through each line\n",
    "add risk assessment to it"
   ]
  },
  {
   "cell_type": "markdown",
   "metadata": {},
   "source": []
  }
 ],
 "metadata": {
  "kernelspec": {
   "display_name": ".venv",
   "language": "python",
   "name": "python3"
  },
  "language_info": {
   "codemirror_mode": {
    "name": "ipython",
    "version": 3
   },
   "file_extension": ".py",
   "mimetype": "text/x-python",
   "name": "python",
   "nbconvert_exporter": "python",
   "pygments_lexer": "ipython3",
   "version": "3.12.4"
  }
 },
 "nbformat": 4,
 "nbformat_minor": 2
}
