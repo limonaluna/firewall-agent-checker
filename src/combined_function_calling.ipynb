{
 "cells": [
  {
   "cell_type": "code",
   "execution_count": 1,
   "metadata": {},
   "outputs": [
    {
     "data": {
      "text/plain": [
       "True"
      ]
     },
     "execution_count": 1,
     "metadata": {},
     "output_type": "execute_result"
    }
   ],
   "source": [
    "import os\n",
    "from openai import AzureOpenAI\n",
    "import argparse\n",
    "import sys\n",
    "import json\n",
    "from azure.search.documents import SearchClient\n",
    "from azure.core.credentials import AzureKeyCredential\n",
    "\n",
    "#Load environment variables\n",
    "from dotenv import load_dotenv\n",
    "load_dotenv()"
   ]
  },
  {
   "cell_type": "code",
   "execution_count": 2,
   "metadata": {},
   "outputs": [],
   "source": [
    "#instatiate Azure OpenAI client\n",
    "client = AzureOpenAI(\n",
    "  azure_endpoint = os.getenv(\"AZURE_OPENAI_ENDPOINT\"), \n",
    "  api_key=os.getenv(\"AZURE_OPENAI_API_KEY\"),  \n",
    "  api_version=os.getenv(\"AZURE_OPENAI_API_VERSION\")\n",
    ")\n",
    "\n",
    "model = os.getenv(\"AZURE_OPENAI_DEPLOYMENT_NAME\")\n"
   ]
  },
  {
   "cell_type": "code",
   "execution_count": 3,
   "metadata": {},
   "outputs": [
    {
     "name": "stdout",
     "output_type": "stream",
     "text": [
      "Yes, several other Azure AI services support **Customer Managed Keys (CMKs)**, which allow you to have greater control over the encryption keys used to protect your data. CMKs are typically stored and managed in **Azure Key Vault** or **Azure Managed HSM (Hardware Security Module)**. Below are some notable Azure AI services that also support CMKs:\n",
      "\n",
      "### 1. **Azure Cognitive Search**\n",
      "   - Azure Cognitive Search supports CMKs, allowing you to encrypt your indexing and storage data using keys you control in Azure Key Vault.\n",
      "   - With CMKs, you can revoke or rotate keys, helping you maintain compliance with your organization's security policies.\n",
      "\n",
      "### 2. **Azure Machine Learning (AML)**\n",
      "   - Azure Machine Learning supports customer-managed keys to encrypt data used in experiments, datasets, models, and other workspace resources.\n",
      "   - Your keys are stored in Azure Key Vault, and integration with AML ensures your data is protected at rest.\n",
      "\n",
      "### 3. **Azure Cognitive Services**\n",
      "   - Many Azure Cognitive Services, such as Translator, Speech, and others, support CMKs for encryption at rest.\n",
      "   - This ensures sensitive data processed and stored by these services has strengthened encryption controls.\n",
      "\n",
      "### 4. **Azure Synapse Analytics (for AI and ML processes)**\n",
      "   - While not a direct \"AI service,\" Azure Synapse, which integrates AI and machine learning capabilities, supports CMKs for encrypting data stored in Synapse workspaces.\n",
      "\n",
      "### Benefits of CMKs in Azure AI Services:\n",
      "- **Key Ownership**: You have complete control over the encryption keys.\n",
      "- **Key Rotation**: You can rotate keys regularly to enhance security.\n",
      "- **Key Revocation**: If necessary, you can revoke access to keys, ensuring the data is immediately inaccessible.\n",
      "- **Compliance**: Helps organizations meet compliance and regulatory requirements for data protection and governance.\n",
      "\n",
      "If you're planning to use CMKs with any Azure service, ensure you review the specific documentation of that service to understand its supported capabilities, configuration requirements, and any potential limitations.\n"
     ]
    }
   ],
   "source": [
    "#Test connection\n",
    "response = client.chat.completions.create(\n",
    "    model=model, # model = \"deployment_name\".\n",
    "    messages=[\n",
    "        {\"role\": \"system\", \"content\": \"You are a helpful assistant.\"},\n",
    "        {\"role\": \"user\", \"content\": \"Does Azure OpenAI support customer managed keys?\"},\n",
    "        {\"role\": \"assistant\", \"content\": \"Yes, customer managed keys are supported by Azure OpenAI.\"},\n",
    "        {\"role\": \"user\", \"content\": \"Do other Azure AI services support this too?\"}\n",
    "    ]\n",
    ")\n",
    "\n",
    "print(response.choices[0].message.content)"
   ]
  },
  {
   "cell_type": "code",
   "execution_count": 4,
   "metadata": {},
   "outputs": [],
   "source": [
    "# Configure environment variables for Azure Cognitive Search\n",
    "search_service_endpoint = os.getenv(\"AZURE_AI_SEARCH_ENDPOINT\")\n",
    "search_index_name = os.getenv(\"AZURE_AI_SEARCH_INDEX\")\n",
    "search_api_key = os.getenv(\"AZURE_AI_SEARCH_API_KEY\")\n",
    "credential = AzureKeyCredential(\"AZURE_AI_SEARCH_API_KEY\")"
   ]
  },
  {
   "cell_type": "code",
   "execution_count": 5,
   "metadata": {},
   "outputs": [],
   "source": [
    "# Initialize the Azure Cognitive Search client\n",
    "search_client = SearchClient(\n",
    "    endpoint=search_service_endpoint,\n",
    "    index_name=search_index_name,\n",
    "    credential=AzureKeyCredential(search_api_key)\n",
    ")"
   ]
  },
  {
   "cell_type": "code",
   "execution_count": 8,
   "metadata": {},
   "outputs": [
    {
     "name": "stdout",
     "output_type": "stream",
     "text": [
      "ChatCompletionMessage(content=None, refusal=None, role='assistant', annotations=None, audio=None, function_call=None, tool_calls=[ChatCompletionMessageToolCall(id='call_N9MwYrba11TtGdmIdHXBmLvW', function=Function(arguments='{\"port\":\"20\"}', name='query_risky_ports'), type='function')])\n"
     ]
    }
   ],
   "source": [
    "system_message = \"\"\"Assistant supports users to determine whether a firewall rule is risky or not.\n",
    "You have access to an Azure Cognitive Search index with a list of ports and IP ranges that are classified as risky. You can search for entries by \"ip_ranges\"\n",
    "You are designed to be an interactive assistant, so you can ask users clarifying questions to help them determine whether the firewall rule is risky. It's better to give more detailed queries to the search index rather than vague one.\n",
    "\"\"\"\n",
    "\n",
    "messages = [{\"role\": \"system\", \"content\": system_message},\n",
    "            {\"role\": \"user\", \"content\": \"Help me find out whether this port is risky or not: 20\"}]\n",
    "\n",
    "#\"role\": \"user\", \"content\": \"Help me find out whether this firewall rule is risky or not: 193.163.125.240\"\n",
    "\n",
    "tools = [\n",
    "    {\n",
    "        \"type\": \"function\",\n",
    "        \"function\": {\n",
    "            \"name\": \"query_risky_ip_ranges\",\n",
    "            \"description\": \"Retrieve risky IP ranges from Azure AI Search index\",\n",
    "            \"parameters\": {\n",
    "                \"type\": \"object\",\n",
    "                \"properties\": {\n",
    "                    \"ip_range\": {\n",
    "                        \"type\": \"string\",\n",
    "                        \"description\": \"The ip-range from the firewall rule request to search for in the risky IP range index\",\n",
    "                    },\n",
    "                },\n",
    "                \"required\": [\"ip_range\"],\n",
    "            },\n",
    "        },\n",
    "    },\n",
    "    {\n",
    "        \"type\": \"function\",\n",
    "        \"function\": {\n",
    "            \"name\": \"query_risky_ports\",\n",
    "            \"description\": \"Retrieve risky ports from Azure AI Search index\",\n",
    "            \"parameters\": {\n",
    "                \"type\": \"object\",\n",
    "                \"properties\": {\n",
    "                    \"port\": {\n",
    "                        \"type\": \"string\",\n",
    "                        \"description\": \"The port number from the firewall rule request to search for in the risky ports index\",\n",
    "                    },\n",
    "                },\n",
    "                \"required\": [\"port\"],\n",
    "            },\n",
    "        },\n",
    "    },\n",
    "]\n",
    "\n",
    "response = client.chat.completions.create(\n",
    "    model=model,\n",
    "    messages=messages,\n",
    "    tools=tools,\n",
    "    temperature=0.2,\n",
    "    tool_choice=\"auto\",\n",
    ")\n",
    "\n",
    "print(response.choices[0].message)"
   ]
  },
  {
   "cell_type": "code",
   "execution_count": 9,
   "metadata": {},
   "outputs": [],
   "source": [
    "def query_risky_ip_ranges(ip_range):\n",
    "    results = search_client.search(\n",
    "        search_text=ip_range,  # Perform a keyword search using the provided IP range\n",
    "        query_type=\"full\",  # Use simple query type for keyword search\n",
    "        search_fields=[\"ip_ranges\"],  # Field to search for the IP range\n",
    "        select=[\"risk_id\", \"description\", \"cvss_score\", \"ports\", \"protocols\", \"ip_ranges\", \"last_updated\"],  # Select relevant fields\n",
    "        top=1  # Limit to top 1 results\n",
    "    )\n",
    "\n",
    "    top_result = next(iter(results), None)\n",
    "    if top_result:\n",
    "        return json.dumps({\n",
    "            \"risk_id\": top_result[\"risk_id\"],\n",
    "            \"description\": top_result[\"description\"],\n",
    "            \"cvss_score\": top_result[\"cvss_score\"],\n",
    "            \"ports\": top_result[\"ports\"],\n",
    "            \"protocols\": top_result[\"protocols\"],\n",
    "            \"ip_ranges\": top_result[\"ip_ranges\"],\n",
    "            \"last_updated\": top_result[\"last_updated\"]\n",
    "        }, indent=2)\n",
    "\n",
    "    return \"No risky IP range found for this input.\""
   ]
  },
  {
   "cell_type": "code",
   "execution_count": 10,
   "metadata": {},
   "outputs": [],
   "source": [
    "def query_risky_ports(port):\n",
    "    results = search_client.search(\n",
    "        search_text=str(port),  # Perform a keyword search using the provided port\n",
    "        query_type=\"full\",  # Use simple query type for keyword search\n",
    "        search_fields=[\"ports\"],  # Field to search for the port\n",
    "        select=[\"risk_id\", \"description\", \"cvss_score\", \"ports\", \"protocols\", \"ip_ranges\", \"last_updated\"],  # Select relevant fields\n",
    "        top=1  # Limit to top 1 results\n",
    "    )\n",
    "\n",
    "    top_result = next(iter(results), None)\n",
    "    if top_result:\n",
    "        return json.dumps({\n",
    "            \"risk_id\": top_result[\"risk_id\"],\n",
    "            \"description\": top_result[\"description\"],\n",
    "            \"cvss_score\": top_result[\"cvss_score\"],\n",
    "            \"ports\": top_result[\"ports\"],\n",
    "            \"protocols\": top_result[\"protocols\"],\n",
    "            \"ip_ranges\": top_result[\"ip_ranges\"],\n",
    "            \"last_updated\": top_result[\"last_updated\"]\n",
    "        }, indent=2)\n",
    "\n",
    "    return \"No risky port found for this input.\""
   ]
  },
  {
   "cell_type": "code",
   "execution_count": null,
   "metadata": {},
   "outputs": [
    {
     "name": "stdout",
     "output_type": "stream",
     "text": [
      "{\n",
      "  \"risk_id\": \"R002\",\n",
      "  \"description\": \"FTP Data- Unencrypted file transfer\",\n",
      "  \"cvss_score\": \"5.0\",\n",
      "  \"ports\": \"20\",\n",
      "  \"protocols\": \"tcp\",\n",
      "  \"ip_ranges\": \"0.0.0.0/0\",\n",
      "  \"last_updated\": \"2025-03-03T00:00:00Z\"\n",
      "}\n"
     ]
    }
   ],
   "source": [
    "test_ports_risky = query_risky_ports(\"20\")\n",
    "print(test_ports_risky)\n"
   ]
  },
  {
   "cell_type": "code",
   "execution_count": null,
   "metadata": {},
   "outputs": [
    {
     "name": "stdout",
     "output_type": "stream",
     "text": [
      "{\n",
      "  \"risk_id\": \"R401\",\n",
      "  \"description\": \"Reported abusive IP\",\n",
      "  \"cvss_score\": \"10.0\",\n",
      "  \"ports\": null,\n",
      "  \"protocols\": null,\n",
      "  \"ip_ranges\": \"193.163.125.241\",\n",
      "  \"last_updated\": \"2025-03-03T00:00:00Z\"\n",
      "}\n"
     ]
    }
   ],
   "source": [
    "test_ipranges_risky = query_risky_ip_ranges(\"193.163.125.241\")\n",
    "print(test_ipranges_risky)"
   ]
  },
  {
   "cell_type": "code",
   "execution_count": 17,
   "metadata": {},
   "outputs": [
    {
     "name": "stdout",
     "output_type": "stream",
     "text": [
      "No risky IP range found for this input.\n"
     ]
    }
   ],
   "source": [
    "test_ipranges_unrisky = query_risky_ip_ranges(\"193.163.125.245\")\n",
    "print(test_ipranges_unrisky)"
   ]
  },
  {
   "cell_type": "code",
   "execution_count": 16,
   "metadata": {},
   "outputs": [
    {
     "name": "stdout",
     "output_type": "stream",
     "text": [
      "No risky port found for this input.\n"
     ]
    }
   ],
   "source": [
    "test_ports_unrisky = query_risky_ports(\"145\")\n",
    "print(test_ports_unrisky)"
   ]
  },
  {
   "cell_type": "code",
   "execution_count": 91,
   "metadata": {},
   "outputs": [],
   "source": [
    "def run_conversation(messages, tools, available_functions):\n",
    "\n",
    "    # Step 1: send the conversation and available functions to GPT\n",
    "    response = client.chat.completions.create(\n",
    "        model=model,\n",
    "        messages=messages,\n",
    "        tools=tools,\n",
    "        tool_choice=\"auto\",\n",
    "        temperature=0.2,\n",
    "    )\n",
    "    response_message = response.choices[0].message\n",
    "\n",
    "    # Step 2: check if the model wants to call a function\n",
    "    if response_message.tool_calls:\n",
    "        print(\"Recommended Function call:\")\n",
    "        print(response_message.tool_calls[0])\n",
    "        print()\n",
    "\n",
    "        # Step 3: call the function\n",
    "        # Note: the JSON response may not always be valid; be sure to handle errors\n",
    "        function_name = response_message.tool_calls[0].function.name\n",
    "\n",
    "        # verify function exists\n",
    "        if function_name not in available_functions:\n",
    "            return \"Function \" + function_name + \" does not exist\"\n",
    "        function_to_call = available_functions[function_name]\n",
    "\n",
    "        try:\n",
    "            function_args = json.loads(response_message.tool_calls[0].function.arguments)\n",
    "        except json.JSONDecodeError as e:\n",
    "            return f\"Failed to parse function arguments: {e}\"\n",
    "\n",
    "        try:\n",
    "            function_response = function_to_call(**function_args)\n",
    "        except Exception as e:\n",
    "            return f\"Error while calling '{function_name}': {e}\"\n",
    "\n",
    "        #function_args = json.loads(response_message.tool_calls[0].function.arguments)\n",
    "        #function_response = function_to_call(**function_args)\n",
    "\n",
    "        print(\"Output of function call:\")\n",
    "        print(function_response)\n",
    "        print()\n",
    "\n",
    "        # Step 4: send the info on the function call and function response to the model\n",
    "\n",
    "        # adding assistant response to messages\n",
    "        messages.append(\n",
    "            {\n",
    "                \"role\": response_message.role,\n",
    "                \"function_call\": {\n",
    "                    \"name\": response_message.tool_calls[0].function.name,\n",
    "                    \"arguments\": response_message.tool_calls[0].function.arguments,\n",
    "                },\n",
    "                \"content\": None,\n",
    "            }\n",
    "        )\n",
    "\n",
    "        # adding function response to messages\n",
    "        messages.append(\n",
    "            {\n",
    "                \"role\": \"function\",\n",
    "                \"name\": function_name,\n",
    "                \"content\": function_response,\n",
    "            }\n",
    "        )  # extend conversation with function response\n",
    "\n",
    "        print(\"Messages in second request:\")\n",
    "        for message in messages:\n",
    "            print(message)\n",
    "        print()\n",
    "\n",
    "        second_response = client.chat.completions.create(\n",
    "            messages=messages,\n",
    "            model=model,\n",
    "        )  # get a new response from GPT where it can see the function response\n",
    "\n",
    "        return second_response\n",
    "    else:\n",
    "        return response"
   ]
  },
  {
   "cell_type": "code",
   "execution_count": 94,
   "metadata": {},
   "outputs": [
    {
     "name": "stdout",
     "output_type": "stream",
     "text": [
      "Recommended Function call:\n",
      "ChatCompletionMessageToolCall(id='call_RpbXPAYvprlK7K1XQnKD4rID', function=Function(arguments='{\"ip_range\": \"193.163.125.245\"}', name='query_risky_ip_ranges'), type='function')\n",
      "\n",
      "Output of function call:\n",
      "No risky IP range found for this input.\n",
      "\n",
      "Messages in second request:\n",
      "{'role': 'system', 'content': 'Assistant is a large language model designed to help determine whether a firewall rule is risky or not.\\nYou have access to an Azure Cognitive Search index with a list of ports and IP ranges that are classified as risky. You can search for entries by \"ip_range\" and \"port\". Perform consecutive queries, first checking for the IP range and then for the port\"\\nYou are designed to be an interactive assistant, so you can ask users clarifying questions to help them determine whether the firewall rule is risky. It\\'s better to give more detailed queries to the search index rather than vague one.\\nIf cvss_score >= 7.0, classify the IP/rule as High Risk\\nIf cvss_score between 4.0 and 6.9, classify as Medium Risk\\nIf cvss_score < 4.0, classify as Low Risk\\n'}\n",
      "{'role': 'user', 'content': 'Help me find out whether this firewall rule is risky or not: ip-range is 193.163.125.245, port is 20, protocol is TCP'}\n",
      "{'role': 'assistant', 'function_call': {'name': 'query_risky_ip_ranges', 'arguments': '{\"ip_range\": \"193.163.125.245\"}'}, 'content': None}\n",
      "{'role': 'function', 'name': 'query_risky_ip_ranges', 'content': 'No risky IP range found for this input.'}\n",
      "\n",
      "Final response:\n",
      "The IP range 193.163.125.245 does not appear to be flagged as risky in the Azure Cognitive Search index.\n",
      "\n",
      "Next, let's check the port 20 for any associated risks.\n"
     ]
    }
   ],
   "source": [
    "system_message = \"\"\"Assistant is a large language model designed to help determine whether a firewall rule is risky or not.\n",
    "You have access to an Azure Cognitive Search index with a list of ports and IP ranges that are classified as risky. You can search for entries by \"ip_range\" and \"port\". Perform consecutive queries, first checking for the IP range and then for the port\"\n",
    "You are designed to be an interactive assistant, so you can ask users clarifying questions to help them determine whether the firewall rule is risky. It's better to give more detailed queries to the search index rather than vague one.\n",
    "If cvss_score >= 7.0, classify the IP/rule as High Risk\n",
    "If cvss_score between 4.0 and 6.9, classify as Medium Risk\n",
    "If cvss_score < 4.0, classify as Low Risk\n",
    "\"\"\"\n",
    "\n",
    "messages = [\n",
    "    {\"role\": \"system\", \"content\": system_message},\n",
    "    {\n",
    "        \"role\": \"user\",\n",
    "        \"content\": \"Help me find out whether this firewall rule is risky or not: ip-range is 193.163.125.245, port is 20, protocol is TCP\",\n",
    "    },\n",
    "]\n",
    "\n",
    "available_functions = {\n",
    "    \"query_risky_ip_ranges\": query_risky_ip_ranges,\n",
    "    \"query_risky_ports\": query_risky_ports,\n",
    "}\n",
    "\n",
    "result = run_conversation(messages, tools, available_functions)\n",
    "\n",
    "print(\"Final response:\")\n",
    "if isinstance(result, str):\n",
    "    print(result)  # It's an error message or string content\n",
    "else:\n",
    "    print(result.choices[0].message.content)  # It's a ChatCompletionMessage object\n",
    "#print(result.choices[0].message.content)"
   ]
  },
  {
   "cell_type": "code",
   "execution_count": null,
   "metadata": {},
   "outputs": [],
   "source": []
  }
 ],
 "metadata": {
  "kernelspec": {
   "display_name": ".venv",
   "language": "python",
   "name": "python3"
  },
  "language_info": {
   "codemirror_mode": {
    "name": "ipython",
    "version": 3
   },
   "file_extension": ".py",
   "mimetype": "text/x-python",
   "name": "python",
   "nbconvert_exporter": "python",
   "pygments_lexer": "ipython3",
   "version": "3.12.4"
  }
 },
 "nbformat": 4,
 "nbformat_minor": 2
}
