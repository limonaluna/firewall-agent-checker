{
 "cells": [
  {
   "cell_type": "code",
   "execution_count": 3,
   "metadata": {},
   "outputs": [
    {
     "ename": "ModuleNotFoundError",
     "evalue": "No module named 'semantic_kernel.connectors.ai.ai_configuration'",
     "output_type": "error",
     "traceback": [
      "\u001b[31m---------------------------------------------------------------------------\u001b[39m",
      "\u001b[31mModuleNotFoundError\u001b[39m                       Traceback (most recent call last)",
      "\u001b[36mCell\u001b[39m\u001b[36m \u001b[39m\u001b[32mIn[3]\u001b[39m\u001b[32m, line 6\u001b[39m\n\u001b[32m      4\u001b[39m \u001b[38;5;28;01mfrom\u001b[39;00m\u001b[38;5;250m \u001b[39m\u001b[34;01mdotenv\u001b[39;00m\u001b[38;5;250m \u001b[39m\u001b[38;5;28;01mimport\u001b[39;00m load_dotenv\n\u001b[32m      5\u001b[39m \u001b[38;5;28;01mfrom\u001b[39;00m\u001b[38;5;250m \u001b[39m\u001b[34;01msemantic_kernel\u001b[39;00m\u001b[34;01m.\u001b[39;00m\u001b[34;01mconnectors\u001b[39;00m\u001b[34;01m.\u001b[39;00m\u001b[34;01mai\u001b[39;00m\u001b[34;01m.\u001b[39;00m\u001b[34;01mopen_ai\u001b[39;00m\u001b[38;5;250m \u001b[39m\u001b[38;5;28;01mimport\u001b[39;00m AzureChatCompletion\n\u001b[32m----> \u001b[39m\u001b[32m6\u001b[39m \u001b[38;5;28;01mfrom\u001b[39;00m\u001b[38;5;250m \u001b[39m\u001b[34;01msemantic_kernel\u001b[39;00m\u001b[34;01m.\u001b[39;00m\u001b[34;01mconnectors\u001b[39;00m\u001b[34;01m.\u001b[39;00m\u001b[34;01mai\u001b[39;00m\u001b[34;01m.\u001b[39;00m\u001b[34;01mai_configuration\u001b[39;00m\u001b[38;5;250m \u001b[39m\u001b[38;5;28;01mimport\u001b[39;00m AzureOpenAIConfig\n\u001b[32m      8\u001b[39m load_dotenv()\n\u001b[32m      9\u001b[39m kernel = sk.Kernel()\n",
      "\u001b[31mModuleNotFoundError\u001b[39m: No module named 'semantic_kernel.connectors.ai.ai_configuration'"
     ]
    }
   ],
   "source": [
    "# Setup\n",
    "import semantic_kernel as sk\n",
    "import os\n",
    "from dotenv import load_dotenv\n",
    "from semantic_kernel.connectors.ai.open_ai import AzureChatCompletion\n",
    "from semantic_kernel.connectors.ai.ai_configuration import AzureOpenAIConfig\n",
    "\n",
    "load_dotenv()\n",
    "kernel = sk.Kernel()\n",
    "\n"
   ]
  },
  {
   "cell_type": "code",
   "execution_count": 2,
   "metadata": {},
   "outputs": [
    {
     "ename": "AttributeError",
     "evalue": "'Kernel' object has no attribute 'add_chat_service'",
     "output_type": "error",
     "traceback": [
      "\u001b[31m---------------------------------------------------------------------------\u001b[39m",
      "\u001b[31mAttributeError\u001b[39m                            Traceback (most recent call last)",
      "\u001b[36mCell\u001b[39m\u001b[36m \u001b[39m\u001b[32mIn[2]\u001b[39m\u001b[32m, line 5\u001b[39m\n\u001b[32m      1\u001b[39m \u001b[38;5;28;01mfrom\u001b[39;00m\u001b[38;5;250m \u001b[39m\u001b[34;01msemantic_kernel\u001b[39;00m\u001b[34;01m.\u001b[39;00m\u001b[34;01mconnectors\u001b[39;00m\u001b[34;01m.\u001b[39;00m\u001b[34;01mai\u001b[39;00m\u001b[34;01m.\u001b[39;00m\u001b[34;01mopen_ai\u001b[39;00m\u001b[38;5;250m \u001b[39m\u001b[38;5;28;01mimport\u001b[39;00m AzureChatCompletion\n\u001b[32m      3\u001b[39m \u001b[38;5;66;03m#deployment, api_key, endpoint = sk.azure_openai_settings_from_dot_env()\u001b[39;00m\n\u001b[32m----> \u001b[39m\u001b[32m5\u001b[39m \u001b[43mkernel\u001b[49m\u001b[43m.\u001b[49m\u001b[43madd_chat_service\u001b[49m(  \u001b[38;5;66;03m# We are adding a text service\u001b[39;00m\n\u001b[32m      6\u001b[39m     \u001b[33m\"\u001b[39m\u001b[33mAzureOpenAI\u001b[39m\u001b[33m\"\u001b[39m,  \u001b[38;5;66;03m# The alias we can use in prompt templates' config.json\u001b[39;00m\n\u001b[32m      7\u001b[39m     AzureChatCompletion(\n\u001b[32m      8\u001b[39m         deployment_name=os.getenv(\u001b[33m\"\u001b[39m\u001b[33mAZURE_OPENAI_DEPLOYMENT_NAME\u001b[39m\u001b[33m\"\u001b[39m),  \u001b[38;5;66;03m# Azure OpenAI *Deployment name*\u001b[39;00m\n\u001b[32m      9\u001b[39m         endpoint=os.getenv(\u001b[33m\"\u001b[39m\u001b[33mAZURE_OPENAI_ENDPOINT\u001b[39m\u001b[33m\"\u001b[39m),  \u001b[38;5;66;03m# Azure OpenAI *Endpoint*\u001b[39;00m\n\u001b[32m     10\u001b[39m         api_key=os.getenv(\u001b[33m\"\u001b[39m\u001b[33mAZURE_OPENAI_API_KEY\u001b[39m\u001b[33m\"\u001b[39m),  \u001b[38;5;66;03m# Azure OpenAI *Key*\u001b[39;00m\n\u001b[32m     11\u001b[39m     ),\n\u001b[32m     12\u001b[39m )\n",
      "\u001b[36mFile \u001b[39m\u001b[32mc:\\sources\\gh\\firewall-agent-checker\\.venv\\Lib\\site-packages\\pydantic\\main.py:891\u001b[39m, in \u001b[36mBaseModel.__getattr__\u001b[39m\u001b[34m(self, item)\u001b[39m\n\u001b[32m    888\u001b[39m     \u001b[38;5;28;01mreturn\u001b[39;00m \u001b[38;5;28msuper\u001b[39m().\u001b[34m__getattribute__\u001b[39m(item)  \u001b[38;5;66;03m# Raises AttributeError if appropriate\u001b[39;00m\n\u001b[32m    889\u001b[39m \u001b[38;5;28;01melse\u001b[39;00m:\n\u001b[32m    890\u001b[39m     \u001b[38;5;66;03m# this is the current error\u001b[39;00m\n\u001b[32m--> \u001b[39m\u001b[32m891\u001b[39m     \u001b[38;5;28;01mraise\u001b[39;00m \u001b[38;5;167;01mAttributeError\u001b[39;00m(\u001b[33mf\u001b[39m\u001b[33m'\u001b[39m\u001b[38;5;132;01m{\u001b[39;00m\u001b[38;5;28mtype\u001b[39m(\u001b[38;5;28mself\u001b[39m).\u001b[34m__name__\u001b[39m\u001b[38;5;132;01m!r}\u001b[39;00m\u001b[33m object has no attribute \u001b[39m\u001b[38;5;132;01m{\u001b[39;00mitem\u001b[38;5;132;01m!r}\u001b[39;00m\u001b[33m'\u001b[39m)\n",
      "\u001b[31mAttributeError\u001b[39m: 'Kernel' object has no attribute 'add_chat_service'"
     ]
    }
   ],
   "source": [
    "from semantic_kernel.connectors.ai.open_ai import AzureChatCompletion\n",
    "\n",
    "#deployment, api_key, endpoint = sk.azure_openai_settings_from_dot_env()\n",
    "\n",
    "kernel.add_chat_service(  # We are adding a text service\n",
    "    \"AzureOpenAI\",  # The alias we can use in prompt templates' config.json\n",
    "    AzureChatCompletion(\n",
    "        deployment_name=os.getenv(\"AZURE_OPENAI_DEPLOYMENT_NAME\"),  # Azure OpenAI *Deployment name*\n",
    "        endpoint=os.getenv(\"AZURE_OPENAI_ENDPOINT\"),  # Azure OpenAI *Endpoint*\n",
    "        api_key=os.getenv(\"AZURE_OPENAI_API_KEY\"),  # Azure OpenAI *Key*\n",
    "    ),\n",
    ")"
   ]
  },
  {
   "cell_type": "code",
   "execution_count": null,
   "metadata": {},
   "outputs": [],
   "source": []
  }
 ],
 "metadata": {
  "kernelspec": {
   "display_name": ".venv",
   "language": "python",
   "name": "python3"
  },
  "language_info": {
   "codemirror_mode": {
    "name": "ipython",
    "version": 3
   },
   "file_extension": ".py",
   "mimetype": "text/x-python",
   "name": "python",
   "nbconvert_exporter": "python",
   "pygments_lexer": "ipython3",
   "version": "3.12.4"
  }
 },
 "nbformat": 4,
 "nbformat_minor": 2
}
